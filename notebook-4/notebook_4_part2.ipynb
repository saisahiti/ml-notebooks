{
  "nbformat": 4,
  "nbformat_minor": 0,
  "metadata": {
    "colab": {
      "provenance": []
    },
    "kernelspec": {
      "name": "python3",
      "display_name": "Python 3"
    },
    "language_info": {
      "name": "python"
    }
  },
  "cells": [
    {
      "cell_type": "code",
      "source": [
        "# Importing required libraries\n",
        "import gymnasium as gym\n",
        "from gymnasium import spaces\n",
        "import matplotlib.pyplot as plt\n",
        "import numpy as np\n",
        "import random"
      ],
      "metadata": {
        "id": "aKBWjVvJOsoI"
      },
      "execution_count": 2,
      "outputs": []
    },
    {
      "cell_type": "markdown",
      "source": [
        "### IMPLEMENTATION OF GEM HUNT ENVIRONMENT"
      ],
      "metadata": {
        "id": "PyY1BZ6IQCf5"
      }
    },
    {
      "cell_type": "code",
      "source": [
        "from matplotlib.colors import ListedColormap\n",
        "from gym import spaces\n",
        "\n",
        "class GemHuntEnv():\n",
        "\n",
        "  def __init__(self):\n",
        "    # Initializes the class, action and observation space\n",
        "\n",
        "    # Defining the grid size which is a 3*4 matrix\n",
        "    self.grid_size = 3, 4\n",
        "\n",
        "    self.observation_space = spaces.Discrete(np.prod(self.grid_size))\n",
        "    self.action_space = spaces.Discrete(4)\n",
        "\n",
        "    # Defining the positions for the agent, treasure and hazard\n",
        "    self.current_pos = 0\n",
        "    self.gem_pos = 3\n",
        "    self.rock_pos = 6\n",
        "    \n",
        "    # Defining the rewards\n",
        "    self.reward_dictionary = {}\n",
        "    self.reward_dictionary[self.gem_pos] = 10\n",
        "    self.reward_dictionary[self.rock_pos] = -10\n",
        "    self.reward_range = (-10, 10)\n",
        "\n",
        "    # Calling reset method to get back to the initial position\n",
        "    self.reset()\n",
        "\n",
        "  def reset(self):\n",
        "    # Resets the state of the environment to an initial position\n",
        "\n",
        "    self.current_pos = 0\n",
        "    self.agent_pos = 0\n",
        "    self.state = self.agent_pos\n",
        "\n",
        "    return self.state\n",
        "\n",
        "  def move_agent(self, action):\n",
        "\n",
        "    # Actions dictionary contains 4 values where 0,1,2,3 are keys, and actions are values\n",
        "    actions = {\n",
        "      0: self.move_up,\n",
        "      1: self.move_down,\n",
        "      2: self.move_right,\n",
        "      3: self.move_left,\n",
        "    }\n",
        "\n",
        "    if action in actions:\n",
        "      actions[action]()\n",
        "    else:\n",
        "      print(\"Invalid action:\", action)\n",
        "\n",
        "  # Defining methods to move the agents according to action\n",
        "  def move_up(self):\n",
        "    if self.grid_size[1] <= self.agent_pos:\n",
        "      self.agent_pos = self.agent_pos - self.grid_size[1]\n",
        "\n",
        "  def move_down(self):\n",
        "    if self.grid_size[0] * self.grid_size[1] - self.grid_size[1] > self.agent_pos:\n",
        "      self.agent_pos = self.agent_pos + self.grid_size[1]\n",
        "\n",
        "  def move_right(self):\n",
        "    if (self.agent_pos + 1) % self.grid_size[1] != 0:\n",
        "      self.agent_pos = self.agent_pos + 1\n",
        "\n",
        "  def move_left(self):\n",
        "    if self.agent_pos % self.grid_size[1] != 0:\n",
        "      self.agent_pos = self.agent_pos - 1\n",
        "\n",
        "  def step(self, action):\n",
        "    # Input is the action\n",
        "\n",
        "    # Define the actions using move_agent() method\n",
        "    self.move_agent(action)\n",
        "    self.current_pos += 1\n",
        "    done = False\n",
        "    self.state = self.agent_pos\n",
        "\n",
        "    # Setting the reward based on the reward_dictionary values\n",
        "    reward = 0\n",
        "    if self.state in self.reward_dictionary:\n",
        "      reward = reward + self.reward_dictionary[self.state]\n",
        "      done = True\n",
        "    else:\n",
        "      reward = reward - 0.1\n",
        "\n",
        "    return self.state, reward, done\n",
        "\n",
        "  def render(self):\n",
        "    # Visualizes the environment\n",
        "  \n",
        "    # Create a colormap for the grid cells\n",
        "    cmap = ListedColormap(['darkblue', 'yellow', 'magenta', 'red'])\n",
        "    \n",
        "    # Create an empty grid with the correct size\n",
        "    grid = np.zeros(self.grid_size)\n",
        "    \n",
        "    # Place the agent row position\n",
        "    agent_row, agent_col = divmod(self.agent_pos, self.grid_size[1])\n",
        "    grid[agent_row, agent_col] = 1\n",
        "    \n",
        "    # Place the goal row position\n",
        "    goal_row, goal_col = divmod(self.gem_pos, self.grid_size[1])\n",
        "    grid[goal_row, goal_col] = 2\n",
        "    \n",
        "    # Place the rock row position\n",
        "    rock_row, rock_col = divmod(self.rock_pos, self.grid_size[1])\n",
        "    grid[rock_row, rock_col] = 3\n",
        "    \n",
        "    # Show the grid using a color map\n",
        "    plt.figure(figsize = (6, 8))\n",
        "    plt.imshow(grid, cmap = cmap, interpolation ='nearest')\n",
        "    plt.axis('off')\n",
        "    plt.show()"
      ],
      "metadata": {
        "id": "DPnnoAkeOycY"
      },
      "execution_count": 3,
      "outputs": []
    },
    {
      "cell_type": "markdown",
      "source": [
        "### SARSA ALGORITHM"
      ],
      "metadata": {
        "id": "L_7bQ0BdQI4M"
      }
    },
    {
      "cell_type": "code",
      "source": [
        "import seaborn as sns\n",
        "\n",
        "class SARSA:\n",
        "  \n",
        "    def __init__(self, env, num_episodes, max_timesteps, alpha, gamma, epsilon, epsilon_decay, epsilon_min):\n",
        "      #Initializing the SARSA agent with the environment and hyperparameters.\n",
        "      #creating a Q-table to store the action-values for each state-action pair in the environment.\n",
        "        self.env = env\n",
        "        self.num_episodes = num_episodes\n",
        "        self.max_timesteps = max_timesteps\n",
        "        self.alpha = alpha\n",
        "        self.gamma = gamma\n",
        "        self.epsilon = epsilon\n",
        "        self.epsilon_decay = epsilon_decay\n",
        "        self.epsilon_min = epsilon_min\n",
        "        self.Q = {}\n",
        "        #Initializing Q-values for each state-action pair to 0\n",
        "        for state in range(env.observation_space.n):\n",
        "            self.Q[state] = {}\n",
        "            for action in range(env.action_space.n):\n",
        "                self.Q[state][action] = 0\n",
        "        self.rewards = []\n",
        "\n",
        "    #Choosing an action for the given state either by exploiting the Q-value or by exploring randomly.\n",
        "    def exploratory_action(self, state):\n",
        "      if np.random.rand() < self.epsilon:\n",
        "        #Choosing a random action\n",
        "          return self.env.action_space.sample()\n",
        "      else:\n",
        "        #Choosing the action with the highest Q-value for the current state\n",
        "          actions = list(self.Q[state].keys())\n",
        "          values = list(self.Q[state].values())\n",
        "          max_value = max(values)\n",
        "          max_indices = [i for i, v in enumerate(values) if v == max_value]\n",
        "          if len(max_indices) == 0:\n",
        "            #Choosing a random action if all Q-values are 0\n",
        "              return self.env.action_space.sample()\n",
        "          elif len(max_indices) > 1:\n",
        "            #Choosing one randomly if there are multiple actions with the same highest Q-value\n",
        "              max_indices = [i for i in max_indices if actions[i] != self.env.action_space.sample()]\n",
        "              if len(max_indices) == 0:\n",
        "                #Choosing the one if the chosen action is the only one with the highest Q-value\n",
        "                  return self.env.action_space.sample()\n",
        "          return actions[random.choice(max_indices)]\n",
        "\n",
        "    #Updating the Q-value for the given state-action pair\n",
        "    def q_update(self, state, action, reward, next_state, next_action):\n",
        "      q = self.Q.get(state, {})\n",
        "      next_q = self.Q.get(next_state, {})\n",
        "      q[action] = q.get(action, 0)\n",
        "      next_q[next_action] = next_q.get(next_action, 0)\n",
        "      td_error = reward + self.gamma * next_q[next_action] - q[action]\n",
        "      q[action] += self.alpha * td_error\n",
        "      self.Q[state] = q\n",
        "      self.Q[next_state] = next_q\n",
        "\n",
        "    #Defining a function to run episodes of the algorithm\n",
        "    def run_episode(self, episode):\n",
        "      #resetting the environment\n",
        "      state = self.env.reset()\n",
        "      done = False\n",
        "      reward_total = 0\n",
        "      t = 0\n",
        "      #Running the episode until it's done or the maximum number of timesteps is reached\n",
        "      while not done and t < self.max_timesteps:\n",
        "          action = self.exploratory_action(state)\n",
        "          next_state, reward, done = self.env.step(action)\n",
        "          reward_total += reward\n",
        "          t += 1\n",
        "          #Updating Q-values for the current state-action pair\n",
        "          for next_action in range(self.env.action_space.n):\n",
        "              self.q_update(state, action, reward, next_state, next_action)\n",
        "          state = next_state\n",
        "      #Updating the epsilon and appending the total reward to the list of rewards\n",
        "      self.epsilon = max(self.epsilon * self.epsilon_decay, self.epsilon_min)\n",
        "      self.rewards.append(reward_total)\n",
        "      #Printing the episode number, epsilon value, and cumulative reward obtained in the episode\n",
        "      print(f\"Current episode: {episode + 1}, Epsilon Value: {self.epsilon:.4f}, Cumulative Reward: {reward_total}\")\n",
        "\n",
        "    #Training the agent by running multiple episodes\n",
        "    def train(self):\n",
        "      episode = 0\n",
        "      while episode < self.num_episodes:\n",
        "          self.run_episode(episode)\n",
        "          episode += 1\n",
        "\n",
        "    #Plotting the cumulative rewards obtained in each episode\n",
        "    def plot_rewards(self):\n",
        "      sns.set_style('darkgrid')\n",
        "      sns.set_palette('muted')\n",
        "      plt.figure(figsize=(8, 4))\n",
        "      sns.lineplot(x=range(self.num_episodes), y = self.rewards)\n",
        "      plt.title('Cumulative reward vs. Episode', fontsize=20)\n",
        "      plt.xlabel('Episode', fontsize=16)\n",
        "      plt.ylabel('Cumulative reward', fontsize=16)\n",
        "      plt.tick_params(axis='both', which='major', labelsize=12)\n",
        "      plt.show()\n",
        "\n",
        "    #Running the training process and returning the learned Q-values and rewards\n",
        "    def run(self):\n",
        "        self.train()\n",
        "        self.plot_rewards()\n",
        "        return self.Q, self.rewards\n"
      ],
      "metadata": {
        "id": "tAabFbPnOzMt",
        "colab": {
          "base_uri": "https://localhost:8080/"
        },
        "outputId": "6d36d199-2505-455a-f119-ddf8d4f687f6"
      },
      "execution_count": 4,
      "outputs": [
        {
          "output_type": "stream",
          "name": "stderr",
          "text": [
            "/usr/local/lib/python3.10/dist-packages/ipykernel/ipkernel.py:283: DeprecationWarning: `should_run_async` will not call `transform_cell` automatically in the future. Please pass the result to `transformed_cell` argument and any exception that happen during thetransform in `preprocessing_exc_tuple` in IPython 7.17 and above.\n",
            "  and should_run_async(code)\n"
          ]
        }
      ]
    },
    {
      "cell_type": "code",
      "source": [
        "env = GemHuntEnv()"
      ],
      "metadata": {
        "id": "fPkBWylBPxhm",
        "colab": {
          "base_uri": "https://localhost:8080/"
        },
        "outputId": "1fb0fee3-b8f1-4131-9fff-824f43e3ab18"
      },
      "execution_count": 5,
      "outputs": [
        {
          "output_type": "stream",
          "name": "stderr",
          "text": [
            "/usr/local/lib/python3.10/dist-packages/ipykernel/ipkernel.py:283: DeprecationWarning: `should_run_async` will not call `transform_cell` automatically in the future. Please pass the result to `transformed_cell` argument and any exception that happen during thetransform in `preprocessing_exc_tuple` in IPython 7.17 and above.\n",
            "  and should_run_async(code)\n"
          ]
        }
      ]
    },
    {
      "cell_type": "markdown",
      "source": [
        "#### BEST PARAMETERS SARSA AGENT"
      ],
      "metadata": {
        "id": "18tCAmpXQMg0"
      }
    },
    {
      "cell_type": "code",
      "source": [
        "# Running the agent with the best results obtained from the part-1 SARSA model\n",
        "gamma = 0.50\n",
        "epsilon_decay=0.80\n",
        "episodes = 100\n",
        "timesteps = 15\n",
        "alpha = 0.1\n",
        "epsilon = 1.0\n",
        "epsilon_min = 0.01\n",
        "best_sarsa_agent = SARSA(env, episodes, timesteps, alpha, gamma, epsilon, epsilon_decay, epsilon_min)"
      ],
      "metadata": {
        "id": "RO2JeiLjPNto"
      },
      "execution_count": 6,
      "outputs": []
    },
    {
      "cell_type": "code",
      "source": [
        "Q_sarsa, rewards_sarsa = best_sarsa_agent.run()"
      ],
      "metadata": {
        "colab": {
          "base_uri": "https://localhost:8080/",
          "height": 1000
        },
        "id": "6_ApnTAAP2Ts",
        "outputId": "f9253a66-9d31-49db-f53d-0764ef0880a2"
      },
      "execution_count": 7,
      "outputs": [
        {
          "output_type": "stream",
          "name": "stdout",
          "text": [
            "Current episode: 1, Epsilon Value: 0.8000, Cumulative Reward: 9.8\n",
            "Current episode: 2, Epsilon Value: 0.6400, Cumulative Reward: -10.7\n",
            "Current episode: 3, Epsilon Value: 0.5120, Cumulative Reward: 9.0\n",
            "Current episode: 4, Epsilon Value: 0.4096, Cumulative Reward: 9.3\n",
            "Current episode: 5, Epsilon Value: 0.3277, Cumulative Reward: 9.4\n",
            "Current episode: 6, Epsilon Value: 0.2621, Cumulative Reward: 9.5\n",
            "Current episode: 7, Epsilon Value: 0.2097, Cumulative Reward: 9.7\n",
            "Current episode: 8, Epsilon Value: 0.1678, Cumulative Reward: -10.3\n",
            "Current episode: 9, Epsilon Value: 0.1342, Cumulative Reward: 9.8\n",
            "Current episode: 10, Epsilon Value: 0.1074, Cumulative Reward: -10.8\n",
            "Current episode: 11, Epsilon Value: 0.0859, Cumulative Reward: 9.8\n",
            "Current episode: 12, Epsilon Value: 0.0687, Cumulative Reward: 9.8\n",
            "Current episode: 13, Epsilon Value: 0.0550, Cumulative Reward: 9.8\n",
            "Current episode: 14, Epsilon Value: 0.0440, Cumulative Reward: 9.8\n",
            "Current episode: 15, Epsilon Value: 0.0352, Cumulative Reward: 9.8\n",
            "Current episode: 16, Epsilon Value: 0.0281, Cumulative Reward: 9.8\n",
            "Current episode: 17, Epsilon Value: 0.0225, Cumulative Reward: 9.7\n",
            "Current episode: 18, Epsilon Value: 0.0180, Cumulative Reward: 9.8\n",
            "Current episode: 19, Epsilon Value: 0.0144, Cumulative Reward: 9.8\n",
            "Current episode: 20, Epsilon Value: 0.0115, Cumulative Reward: 9.8\n",
            "Current episode: 21, Epsilon Value: 0.0100, Cumulative Reward: 9.8\n",
            "Current episode: 22, Epsilon Value: 0.0100, Cumulative Reward: 9.8\n",
            "Current episode: 23, Epsilon Value: 0.0100, Cumulative Reward: 9.8\n",
            "Current episode: 24, Epsilon Value: 0.0100, Cumulative Reward: 9.8\n",
            "Current episode: 25, Epsilon Value: 0.0100, Cumulative Reward: 9.8\n",
            "Current episode: 26, Epsilon Value: 0.0100, Cumulative Reward: 9.8\n",
            "Current episode: 27, Epsilon Value: 0.0100, Cumulative Reward: 9.8\n",
            "Current episode: 28, Epsilon Value: 0.0100, Cumulative Reward: 9.8\n",
            "Current episode: 29, Epsilon Value: 0.0100, Cumulative Reward: 9.8\n",
            "Current episode: 30, Epsilon Value: 0.0100, Cumulative Reward: 9.8\n",
            "Current episode: 31, Epsilon Value: 0.0100, Cumulative Reward: 9.8\n",
            "Current episode: 32, Epsilon Value: 0.0100, Cumulative Reward: 9.8\n",
            "Current episode: 33, Epsilon Value: 0.0100, Cumulative Reward: 9.8\n",
            "Current episode: 34, Epsilon Value: 0.0100, Cumulative Reward: 9.8\n",
            "Current episode: 35, Epsilon Value: 0.0100, Cumulative Reward: 9.8\n",
            "Current episode: 36, Epsilon Value: 0.0100, Cumulative Reward: 9.8\n",
            "Current episode: 37, Epsilon Value: 0.0100, Cumulative Reward: 9.8\n",
            "Current episode: 38, Epsilon Value: 0.0100, Cumulative Reward: 9.8\n",
            "Current episode: 39, Epsilon Value: 0.0100, Cumulative Reward: 9.8\n",
            "Current episode: 40, Epsilon Value: 0.0100, Cumulative Reward: 9.8\n",
            "Current episode: 41, Epsilon Value: 0.0100, Cumulative Reward: 9.8\n",
            "Current episode: 42, Epsilon Value: 0.0100, Cumulative Reward: 9.8\n",
            "Current episode: 43, Epsilon Value: 0.0100, Cumulative Reward: 9.8\n",
            "Current episode: 44, Epsilon Value: 0.0100, Cumulative Reward: 9.8\n",
            "Current episode: 45, Epsilon Value: 0.0100, Cumulative Reward: 9.8\n",
            "Current episode: 46, Epsilon Value: 0.0100, Cumulative Reward: 9.8\n",
            "Current episode: 47, Epsilon Value: 0.0100, Cumulative Reward: 9.8\n",
            "Current episode: 48, Epsilon Value: 0.0100, Cumulative Reward: 9.8\n",
            "Current episode: 49, Epsilon Value: 0.0100, Cumulative Reward: 9.8\n",
            "Current episode: 50, Epsilon Value: 0.0100, Cumulative Reward: 9.8\n",
            "Current episode: 51, Epsilon Value: 0.0100, Cumulative Reward: 9.8\n",
            "Current episode: 52, Epsilon Value: 0.0100, Cumulative Reward: 9.8\n",
            "Current episode: 53, Epsilon Value: 0.0100, Cumulative Reward: 9.8\n",
            "Current episode: 54, Epsilon Value: 0.0100, Cumulative Reward: 9.8\n",
            "Current episode: 55, Epsilon Value: 0.0100, Cumulative Reward: 9.8\n",
            "Current episode: 56, Epsilon Value: 0.0100, Cumulative Reward: 9.8\n",
            "Current episode: 57, Epsilon Value: 0.0100, Cumulative Reward: 9.8\n",
            "Current episode: 58, Epsilon Value: 0.0100, Cumulative Reward: 9.8\n",
            "Current episode: 59, Epsilon Value: 0.0100, Cumulative Reward: 9.8\n",
            "Current episode: 60, Epsilon Value: 0.0100, Cumulative Reward: 9.8\n",
            "Current episode: 61, Epsilon Value: 0.0100, Cumulative Reward: 9.8\n",
            "Current episode: 62, Epsilon Value: 0.0100, Cumulative Reward: 9.8\n",
            "Current episode: 63, Epsilon Value: 0.0100, Cumulative Reward: 9.8\n",
            "Current episode: 64, Epsilon Value: 0.0100, Cumulative Reward: 9.8\n",
            "Current episode: 65, Epsilon Value: 0.0100, Cumulative Reward: 9.8\n",
            "Current episode: 66, Epsilon Value: 0.0100, Cumulative Reward: 9.8\n",
            "Current episode: 67, Epsilon Value: 0.0100, Cumulative Reward: 9.8\n",
            "Current episode: 68, Epsilon Value: 0.0100, Cumulative Reward: 9.8\n",
            "Current episode: 69, Epsilon Value: 0.0100, Cumulative Reward: 9.8\n",
            "Current episode: 70, Epsilon Value: 0.0100, Cumulative Reward: 9.8\n",
            "Current episode: 71, Epsilon Value: 0.0100, Cumulative Reward: 9.8\n",
            "Current episode: 72, Epsilon Value: 0.0100, Cumulative Reward: 9.8\n",
            "Current episode: 73, Epsilon Value: 0.0100, Cumulative Reward: 9.8\n",
            "Current episode: 74, Epsilon Value: 0.0100, Cumulative Reward: 9.8\n",
            "Current episode: 75, Epsilon Value: 0.0100, Cumulative Reward: 9.8\n",
            "Current episode: 76, Epsilon Value: 0.0100, Cumulative Reward: 9.8\n",
            "Current episode: 77, Epsilon Value: 0.0100, Cumulative Reward: 9.8\n",
            "Current episode: 78, Epsilon Value: 0.0100, Cumulative Reward: 9.8\n",
            "Current episode: 79, Epsilon Value: 0.0100, Cumulative Reward: 9.8\n",
            "Current episode: 80, Epsilon Value: 0.0100, Cumulative Reward: 9.8\n",
            "Current episode: 81, Epsilon Value: 0.0100, Cumulative Reward: 9.8\n",
            "Current episode: 82, Epsilon Value: 0.0100, Cumulative Reward: 9.8\n",
            "Current episode: 83, Epsilon Value: 0.0100, Cumulative Reward: 9.8\n",
            "Current episode: 84, Epsilon Value: 0.0100, Cumulative Reward: 9.8\n",
            "Current episode: 85, Epsilon Value: 0.0100, Cumulative Reward: 9.6\n",
            "Current episode: 86, Epsilon Value: 0.0100, Cumulative Reward: 9.8\n",
            "Current episode: 87, Epsilon Value: 0.0100, Cumulative Reward: 9.8\n",
            "Current episode: 88, Epsilon Value: 0.0100, Cumulative Reward: 9.8\n",
            "Current episode: 89, Epsilon Value: 0.0100, Cumulative Reward: 9.8\n",
            "Current episode: 90, Epsilon Value: 0.0100, Cumulative Reward: 9.8\n",
            "Current episode: 91, Epsilon Value: 0.0100, Cumulative Reward: 9.8\n",
            "Current episode: 92, Epsilon Value: 0.0100, Cumulative Reward: 9.8\n",
            "Current episode: 93, Epsilon Value: 0.0100, Cumulative Reward: 9.8\n",
            "Current episode: 94, Epsilon Value: 0.0100, Cumulative Reward: 9.8\n",
            "Current episode: 95, Epsilon Value: 0.0100, Cumulative Reward: 9.8\n",
            "Current episode: 96, Epsilon Value: 0.0100, Cumulative Reward: 9.8\n",
            "Current episode: 97, Epsilon Value: 0.0100, Cumulative Reward: 9.8\n",
            "Current episode: 98, Epsilon Value: 0.0100, Cumulative Reward: 9.8\n",
            "Current episode: 99, Epsilon Value: 0.0100, Cumulative Reward: 9.8\n",
            "Current episode: 100, Epsilon Value: 0.0100, Cumulative Reward: 9.8\n"
          ]
        },
        {
          "output_type": "display_data",
          "data": {
            "text/plain": [
              "<Figure size 800x400 with 1 Axes>"
            ],
            "image/png": "[encoded data removed]"
          },
          "metadata": {}
        }
      ]
    },
    {
      "cell_type": "markdown",
      "source": [
        "### 2-STEP BOOTSTRAPPING SARSA"
      ],
      "metadata": {
        "id": "gPnLpeK6QTTd"
      }
    },
    {
      "cell_type": "code",
      "source": [
        "class TWO_STEP_SARSA:\n",
        "  \n",
        "  def __init__(self, env, num_episodes, max_timesteps, alpha, gamma, epsilon, epsilon_decay, epsilon_min):\n",
        "\n",
        "    # Initializing the SARSA agent with the environment and hyperparameters.\n",
        "\n",
        "    self.env = env\n",
        "    self.num_episodes = num_episodes\n",
        "    self.max_timesteps = max_timesteps\n",
        "    self.alpha = alpha\n",
        "    self.gamma = gamma\n",
        "    self.epsilon = epsilon\n",
        "    self.epsilon_decay = epsilon_decay\n",
        "    self.epsilon_min = epsilon_min\n",
        "    self.Q = {}\n",
        "    self.n = 2\n",
        "\n",
        "    # Initializing Q-values for each state-action pair to 0\n",
        "    for state in range(env.observation_space.n):\n",
        "        self.Q[state] = {}\n",
        "        for action in range(env.action_space.n):\n",
        "            self.Q[state][action] = 0\n",
        "    self.rewards = []\n",
        "\n",
        "  # Choosing an action for the given state either by exploiting the Q-value or by exploring randomly.\n",
        "  def exploratory_action(self, state):\n",
        "    if np.random.rand() < self.epsilon:\n",
        "        # Choosing a random action\n",
        "        return self.env.action_space.sample()\n",
        "    else:\n",
        "        # Choosing the action with the highest Q-value for the current state\n",
        "        actions = list(self.Q[state].keys())\n",
        "        values = list(self.Q[state].values())\n",
        "        max_value = max(values)\n",
        "        max_indices = [i for i, v in enumerate(values) if v == max_value]\n",
        "        if len(max_indices) == 0:\n",
        "            # Choosing a random action if all Q-values are 0\n",
        "            return self.env.action_space.sample()\n",
        "        elif len(max_indices) > 1:\n",
        "            # Choosing one randomly if there are multiple actions with the same highest Q-value\n",
        "            max_indices = [i for i in max_indices if actions[i] != self.env.action_space.sample()]\n",
        "            if len(max_indices) == 0:\n",
        "                # Choosing the one if the chosen action is the only one with the highest Q-value\n",
        "                return self.env.action_space.sample()\n",
        "        return actions[random.choice(max_indices)]\n",
        "\n",
        "  # Updating the Q-value for the given state-action pair using 2-step return\n",
        "  def q_update(self, state, action, reward, next_state, next_action, next_next_state = None, next_next_action = None):\n",
        "    q_val = self.Q.get(state, {})\n",
        "    next_q_val = self.Q.get(next_state, {})\n",
        "    q_val[action] = q_val.get(action, 0)\n",
        "    next_q_val[next_action] = next_q_val.get(next_action, 0)\n",
        "\n",
        "    if next_next_state is None:\n",
        "        td_error = reward + self.gamma * next_q_val[next_action] - q_val[action]\n",
        "    else:\n",
        "        next_next_q = self.Q.get(next_next_state, {})\n",
        "        next_reward = self.gamma * next_next_q[next_next_action]\n",
        "        td_error = reward + self.gamma * (next_reward + next_q_val[next_next_action]) - q_val[action]\n",
        "\n",
        "    q_val[action] += self.alpha * td_error\n",
        "    self.Q[state] = q_val\n",
        "    self.Q[next_state] = next_q_val\n",
        "\n",
        "  def run_episode(self, episode):\n",
        "    # Initializing the state and action for the current episode\n",
        "    state = self.env.reset()\n",
        "    action = self.exploratory_action(state)\n",
        "    \n",
        "    reward_total = 0\n",
        "\n",
        "    # Running the episode until the maximum number of timesteps is reached\n",
        "    for t in range(self.max_timesteps):\n",
        "      # Taking a step in the environment based on the chosen action\n",
        "      next_state, reward, done = self.env.step(action)\n",
        "      reward_total += reward\n",
        "      \n",
        "      # Choosing the next action either by exploiting the Q-value or by exploring randomly\n",
        "      next_action = self.exploratory_action(next_state)\n",
        "      \n",
        "      # Updating the Q-value for the current state-action pair using 2-step return\n",
        "      if t < self.max_timesteps - 1:\n",
        "          next_next_state, _, _ = self.env.step(next_action)\n",
        "          next_next_action = self.exploratory_action(next_next_state)\n",
        "          self.q_update(state, action, reward, next_state, next_action, next_next_state, next_next_action)\n",
        "      else:\n",
        "          self.q_update(state, action, reward, next_state, next_action)\n",
        "      \n",
        "      # Moving to the next state and action\n",
        "      state = next_state\n",
        "      action = next_action\n",
        "      \n",
        "      # Ending the episode if the environment is in a terminal state\n",
        "      if done:\n",
        "          break\n",
        "    \n",
        "    # Decaying the exploration rate epsilon\n",
        "    if self.epsilon > self.epsilon_min:\n",
        "        self.epsilon *= self.epsilon_decay\n",
        "\n",
        "    self.rewards.append(reward_total)\n",
        "\n",
        "    print(f\"Current episode: {episode + 1}, Epsilon Value: {self.epsilon:.4f}, Cumulative Reward: {reward_total}\")\n",
        "\n",
        "  def train(self):\n",
        "    episode = 0\n",
        "    while episode < self.num_episodes:\n",
        "      self.run_episode(episode)\n",
        "      episode += 1\n",
        "\n",
        "  def plot_rewards(self):\n",
        "    # Plotting the rewards obtained over the course of training\n",
        "    sns.set_style('darkgrid')\n",
        "    sns.set_palette('muted')\n",
        "    plt.figure(figsize=(8, 4))\n",
        "    sns.lineplot(x=range(self.num_episodes), y = self.rewards)\n",
        "    plt.title('Cumulative reward vs. Episode', fontsize=20)\n",
        "    plt.xlabel('Episode', fontsize=16)\n",
        "    plt.ylabel('Cumulative reward', fontsize=16)\n",
        "    plt.tick_params(axis='both', which='major', labelsize=12)\n",
        "    plt.show()\n",
        "\n",
        "  def run(self):\n",
        "    # Running a single episode with the learned Q-values\n",
        "    self.train()\n",
        "    self.plot_rewards()\n",
        "    return self.Q, self.rewards\n",
        "\n"
      ],
      "metadata": {
        "id": "ssqW32mhV_pz",
        "colab": {
          "base_uri": "https://localhost:8080/"
        },
        "outputId": "6abcd1c5-55e3-4643-a665-8d1f4d123305"
      },
      "execution_count": 8,
      "outputs": [
        {
          "output_type": "stream",
          "name": "stderr",
          "text": [
            "/usr/local/lib/python3.10/dist-packages/ipykernel/ipkernel.py:283: DeprecationWarning: `should_run_async` will not call `transform_cell` automatically in the future. Please pass the result to `transformed_cell` argument and any exception that happen during thetransform in `preprocessing_exc_tuple` in IPython 7.17 and above.\n",
            "  and should_run_async(code)\n"
          ]
        }
      ]
    },
    {
      "cell_type": "code",
      "source": [
        "n_step_sarsa_agent = TWO_STEP_SARSA(env, episodes, timesteps, alpha, gamma, epsilon, epsilon_decay, epsilon_min)"
      ],
      "metadata": {
        "id": "4-7B_3YGRNmE"
      },
      "execution_count": 9,
      "outputs": []
    },
    {
      "cell_type": "code",
      "source": [
        "Q_n_step_sarsa_agent, rewards_n_step_sarsa_agent = n_step_sarsa_agent.run()"
      ],
      "metadata": {
        "colab": {
          "base_uri": "https://localhost:8080/",
          "height": 1000
        },
        "id": "DFzmnptOYlw-",
        "outputId": "76b71456-fa94-4bf7-9815-f82997e7f042"
      },
      "execution_count": 10,
      "outputs": [
        {
          "output_type": "stream",
          "name": "stdout",
          "text": [
            "Current episode: 1, Epsilon Value: 0.8000, Cumulative Reward: 8.9\n",
            "Current episode: 2, Epsilon Value: 0.6400, Cumulative Reward: 9.9\n",
            "Current episode: 3, Epsilon Value: 0.5120, Cumulative Reward: 9.8\n",
            "Current episode: 4, Epsilon Value: 0.4096, Cumulative Reward: 9.9\n",
            "Current episode: 5, Epsilon Value: 0.3277, Cumulative Reward: 9.5\n",
            "Current episode: 6, Epsilon Value: 0.2621, Cumulative Reward: 9.3\n",
            "Current episode: 7, Epsilon Value: 0.2097, Cumulative Reward: 8.9\n",
            "Current episode: 8, Epsilon Value: 0.1678, Cumulative Reward: 9.7\n",
            "Current episode: 9, Epsilon Value: 0.1342, Cumulative Reward: 9.9\n",
            "Current episode: 10, Epsilon Value: 0.1074, Cumulative Reward: 9.9\n",
            "Current episode: 11, Epsilon Value: 0.0859, Cumulative Reward: 9.9\n",
            "Current episode: 12, Epsilon Value: 0.0687, Cumulative Reward: 9.8\n",
            "Current episode: 13, Epsilon Value: 0.0550, Cumulative Reward: 9.6\n",
            "Current episode: 14, Epsilon Value: 0.0440, Cumulative Reward: 9.9\n",
            "Current episode: 15, Epsilon Value: 0.0352, Cumulative Reward: 9.9\n",
            "Current episode: 16, Epsilon Value: 0.0281, Cumulative Reward: 9.9\n",
            "Current episode: 17, Epsilon Value: 0.0225, Cumulative Reward: 9.9\n",
            "Current episode: 18, Epsilon Value: 0.0180, Cumulative Reward: 9.9\n",
            "Current episode: 19, Epsilon Value: 0.0144, Cumulative Reward: 9.9\n",
            "Current episode: 20, Epsilon Value: 0.0115, Cumulative Reward: 9.9\n",
            "Current episode: 21, Epsilon Value: 0.0092, Cumulative Reward: 9.9\n",
            "Current episode: 22, Epsilon Value: 0.0092, Cumulative Reward: 9.9\n",
            "Current episode: 23, Epsilon Value: 0.0092, Cumulative Reward: 9.9\n",
            "Current episode: 24, Epsilon Value: 0.0092, Cumulative Reward: 9.9\n",
            "Current episode: 25, Epsilon Value: 0.0092, Cumulative Reward: 9.9\n",
            "Current episode: 26, Epsilon Value: 0.0092, Cumulative Reward: 9.9\n",
            "Current episode: 27, Epsilon Value: 0.0092, Cumulative Reward: 9.9\n",
            "Current episode: 28, Epsilon Value: 0.0092, Cumulative Reward: 9.9\n",
            "Current episode: 29, Epsilon Value: 0.0092, Cumulative Reward: 9.9\n",
            "Current episode: 30, Epsilon Value: 0.0092, Cumulative Reward: 9.9\n",
            "Current episode: 31, Epsilon Value: 0.0092, Cumulative Reward: 9.9\n",
            "Current episode: 32, Epsilon Value: 0.0092, Cumulative Reward: 9.9\n",
            "Current episode: 33, Epsilon Value: 0.0092, Cumulative Reward: 9.9\n",
            "Current episode: 34, Epsilon Value: 0.0092, Cumulative Reward: 9.9\n",
            "Current episode: 35, Epsilon Value: 0.0092, Cumulative Reward: 9.9\n",
            "Current episode: 36, Epsilon Value: 0.0092, Cumulative Reward: 9.9\n",
            "Current episode: 37, Epsilon Value: 0.0092, Cumulative Reward: 9.9\n",
            "Current episode: 38, Epsilon Value: 0.0092, Cumulative Reward: 9.9\n",
            "Current episode: 39, Epsilon Value: 0.0092, Cumulative Reward: 9.9\n",
            "Current episode: 40, Epsilon Value: 0.0092, Cumulative Reward: 9.9\n",
            "Current episode: 41, Epsilon Value: 0.0092, Cumulative Reward: 9.9\n",
            "Current episode: 42, Epsilon Value: 0.0092, Cumulative Reward: 9.9\n",
            "Current episode: 43, Epsilon Value: 0.0092, Cumulative Reward: 9.9\n",
            "Current episode: 44, Epsilon Value: 0.0092, Cumulative Reward: 9.9\n",
            "Current episode: 45, Epsilon Value: 0.0092, Cumulative Reward: 9.9\n",
            "Current episode: 46, Epsilon Value: 0.0092, Cumulative Reward: 9.9\n",
            "Current episode: 47, Epsilon Value: 0.0092, Cumulative Reward: 9.9\n",
            "Current episode: 48, Epsilon Value: 0.0092, Cumulative Reward: 9.9\n",
            "Current episode: 49, Epsilon Value: 0.0092, Cumulative Reward: 9.9\n",
            "Current episode: 50, Epsilon Value: 0.0092, Cumulative Reward: 9.9\n",
            "Current episode: 51, Epsilon Value: 0.0092, Cumulative Reward: 9.9\n",
            "Current episode: 52, Epsilon Value: 0.0092, Cumulative Reward: 9.9\n",
            "Current episode: 53, Epsilon Value: 0.0092, Cumulative Reward: 9.9\n",
            "Current episode: 54, Epsilon Value: 0.0092, Cumulative Reward: 9.9\n",
            "Current episode: 55, Epsilon Value: 0.0092, Cumulative Reward: 9.9\n",
            "Current episode: 56, Epsilon Value: 0.0092, Cumulative Reward: 9.9\n",
            "Current episode: 57, Epsilon Value: 0.0092, Cumulative Reward: 9.9\n",
            "Current episode: 58, Epsilon Value: 0.0092, Cumulative Reward: 9.9\n",
            "Current episode: 59, Epsilon Value: 0.0092, Cumulative Reward: 9.9\n",
            "Current episode: 60, Epsilon Value: 0.0092, Cumulative Reward: 9.9\n",
            "Current episode: 61, Epsilon Value: 0.0092, Cumulative Reward: 9.9\n",
            "Current episode: 62, Epsilon Value: 0.0092, Cumulative Reward: 9.9\n",
            "Current episode: 63, Epsilon Value: 0.0092, Cumulative Reward: 9.9\n",
            "Current episode: 64, Epsilon Value: 0.0092, Cumulative Reward: 9.9\n",
            "Current episode: 65, Epsilon Value: 0.0092, Cumulative Reward: 9.9\n",
            "Current episode: 66, Epsilon Value: 0.0092, Cumulative Reward: 9.9\n",
            "Current episode: 67, Epsilon Value: 0.0092, Cumulative Reward: 9.9\n",
            "Current episode: 68, Epsilon Value: 0.0092, Cumulative Reward: 9.9\n",
            "Current episode: 69, Epsilon Value: 0.0092, Cumulative Reward: 9.9\n",
            "Current episode: 70, Epsilon Value: 0.0092, Cumulative Reward: 9.9\n",
            "Current episode: 71, Epsilon Value: 0.0092, Cumulative Reward: 9.9\n",
            "Current episode: 72, Epsilon Value: 0.0092, Cumulative Reward: 9.9\n",
            "Current episode: 73, Epsilon Value: 0.0092, Cumulative Reward: 9.9\n",
            "Current episode: 74, Epsilon Value: 0.0092, Cumulative Reward: 9.9\n",
            "Current episode: 75, Epsilon Value: 0.0092, Cumulative Reward: 9.9\n",
            "Current episode: 76, Epsilon Value: 0.0092, Cumulative Reward: 9.9\n",
            "Current episode: 77, Epsilon Value: 0.0092, Cumulative Reward: 9.9\n",
            "Current episode: 78, Epsilon Value: 0.0092, Cumulative Reward: 9.9\n",
            "Current episode: 79, Epsilon Value: 0.0092, Cumulative Reward: 9.9\n",
            "Current episode: 80, Epsilon Value: 0.0092, Cumulative Reward: 9.9\n",
            "Current episode: 81, Epsilon Value: 0.0092, Cumulative Reward: 9.9\n",
            "Current episode: 82, Epsilon Value: 0.0092, Cumulative Reward: 9.9\n",
            "Current episode: 83, Epsilon Value: 0.0092, Cumulative Reward: 9.9\n",
            "Current episode: 84, Epsilon Value: 0.0092, Cumulative Reward: 9.9\n",
            "Current episode: 85, Epsilon Value: 0.0092, Cumulative Reward: 9.9\n",
            "Current episode: 86, Epsilon Value: 0.0092, Cumulative Reward: 9.9\n",
            "Current episode: 87, Epsilon Value: 0.0092, Cumulative Reward: 9.9\n",
            "Current episode: 88, Epsilon Value: 0.0092, Cumulative Reward: 9.9\n",
            "Current episode: 89, Epsilon Value: 0.0092, Cumulative Reward: 9.9\n",
            "Current episode: 90, Epsilon Value: 0.0092, Cumulative Reward: 9.9\n",
            "Current episode: 91, Epsilon Value: 0.0092, Cumulative Reward: 9.9\n",
            "Current episode: 92, Epsilon Value: 0.0092, Cumulative Reward: 9.9\n",
            "Current episode: 93, Epsilon Value: 0.0092, Cumulative Reward: 9.9\n",
            "Current episode: 94, Epsilon Value: 0.0092, Cumulative Reward: 9.9\n",
            "Current episode: 95, Epsilon Value: 0.0092, Cumulative Reward: 9.9\n",
            "Current episode: 96, Epsilon Value: 0.0092, Cumulative Reward: 9.9\n",
            "Current episode: 97, Epsilon Value: 0.0092, Cumulative Reward: 9.9\n",
            "Current episode: 98, Epsilon Value: 0.0092, Cumulative Reward: 9.9\n",
            "Current episode: 99, Epsilon Value: 0.0092, Cumulative Reward: 9.9\n",
            "Current episode: 100, Epsilon Value: 0.0092, Cumulative Reward: 9.9\n"
          ]
        },
        {
          "output_type": "display_data",
          "data": {
            "text/plain": [
              "<Figure size 800x400 with 1 Axes>"
            ],
            "image/png": "[encoded data removed]"
          },
          "metadata": {}
        }
      ]
    },
    {
      "cell_type": "markdown",
      "source": [
        "COMPARISION OF SARSA AND N-STEP SARSA"
      ],
      "metadata": {
        "id": "MuCYdbNs84W1"
      }
    },
    {
      "cell_type": "code",
      "source": [
        "# Plotting the results\n",
        "sns.set_style('darkgrid')\n",
        "sns.set_palette('muted')\n",
        "plt.figure(figsize=(8, 4))\n",
        "sns.lineplot(x=range(len(rewards_sarsa)), y = rewards_sarsa, label = 'SARSA')\n",
        "sns.lineplot(x=range(len(rewards_n_step_sarsa_agent)), y = rewards_n_step_sarsa_agent, label = '2-step SARSA')\n",
        "plt.title('Total reward vs. Episode', fontsize=20)\n",
        "plt.xlabel('Episode', fontsize=16)\n",
        "plt.ylabel('Total reward', fontsize=16)\n",
        "plt.tick_params(axis='both', which='major', labelsize=12)\n",
        "plt.legend()\n",
        "plt.show()"
      ],
      "metadata": {
        "id": "qF9XvzW3fm1l",
        "colab": {
          "base_uri": "https://localhost:8080/",
          "height": 483
        },
        "outputId": "104324ed-5de3-435a-eed9-9833f5e9e238"
      },
      "execution_count": 11,
      "outputs": [
        {
          "output_type": "stream",
          "name": "stderr",
          "text": [
            "/usr/local/lib/python3.10/dist-packages/ipykernel/ipkernel.py:283: DeprecationWarning: `should_run_async` will not call `transform_cell` automatically in the future. Please pass the result to `transformed_cell` argument and any exception that happen during thetransform in `preprocessing_exc_tuple` in IPython 7.17 and above.\n",
            "  and should_run_async(code)\n"
          ]
        },
        {
          "output_type": "display_data",
          "data": {
            "text/plain": [
              "<Figure size 800x400 with 1 Axes>"
            ],
            "image/png": "[encoded data removed]"
          },
          "metadata": {}
        }
      ]
    },
    {
      "cell_type": "markdown",
      "source": [
        "From the above graph, we can understand that the orange line which represents '2-step SARSA' model has performed better than 'SARSA' model, the graph of '2-step SARSA' is not fluctuating unlike 'SARSA', the rewards of '2-step SARSA' are not going below 5 from the starting."
      ],
      "metadata": {
        "id": "pfbiEUaB8eM3"
      }
    },
    {
      "cell_type": "code",
      "source": [],
      "metadata": {
        "id": "5gA9_buW8a4R"
      },
      "execution_count": null,
      "outputs": []
    }
  ]
}