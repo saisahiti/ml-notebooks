{
 "cells": [
  {
   "cell_type": "markdown",
   "id": "1c123bd8",
   "metadata": {},
   "source": [
    "##  PART-1\n",
    "\n",
    "### **Logistic Regression** "
   ]
  },
  {
   "cell_type": "code",
   "execution_count": 1,
   "id": "209f45ea",
   "metadata": {},
   "outputs": [],
   "source": [
    "# Importing the libraries required\n",
    "\n",
    "import pandas as pd\n",
    "import numpy as np"
   ]
  },
  {
   "cell_type": "code",
   "execution_count": 2,
   "id": "bff84f4a",
   "metadata": {},
   "outputs": [],
   "source": [
    "# Reading the dataset\n",
    "\n",
    "penguin_df = pd.read_csv(\"datasets/datasets/penguins.csv\")"
   ]
  },
  {
   "cell_type": "code",
   "execution_count": 3,
   "id": "a5551c46",
   "metadata": {},
   "outputs": [
    {
     "data": {
      "text/html": [
       "<div>\n",
       "<style scoped>\n",
       "    .dataframe tbody tr th:only-of-type {\n",
       "        vertical-align: middle;\n",
       "    }\n",
       "\n",
       "    .dataframe tbody tr th {\n",
       "        vertical-align: top;\n",
       "    }\n",
       "\n",
       "    .dataframe thead th {\n",
       "        text-align: right;\n",
       "    }\n",
       "</style>\n",
       "<table border=\"1\" class=\"dataframe\">\n",
       "  <thead>\n",
       "    <tr style=\"text-align: right;\">\n",
       "      <th></th>\n",
       "      <th>species</th>\n",
       "      <th>island</th>\n",
       "      <th>bill_length_mm</th>\n",
       "      <th>bill_depth_mm</th>\n",
       "      <th>flipper_length_mm</th>\n",
       "      <th>body_mass_g</th>\n",
       "      <th>sex</th>\n",
       "      <th>year</th>\n",
       "    </tr>\n",
       "  </thead>\n",
       "  <tbody>\n",
       "    <tr>\n",
       "      <th>0</th>\n",
       "      <td>Adelie</td>\n",
       "      <td>Torgersen</td>\n",
       "      <td>39.1</td>\n",
       "      <td>18.7</td>\n",
       "      <td>181.0</td>\n",
       "      <td>3750.0</td>\n",
       "      <td>male</td>\n",
       "      <td>2007</td>\n",
       "    </tr>\n",
       "    <tr>\n",
       "      <th>1</th>\n",
       "      <td>Adelie</td>\n",
       "      <td>Torgersen</td>\n",
       "      <td>39.5</td>\n",
       "      <td>17.4</td>\n",
       "      <td>186.0</td>\n",
       "      <td>3800.0</td>\n",
       "      <td>female</td>\n",
       "      <td>2007</td>\n",
       "    </tr>\n",
       "    <tr>\n",
       "      <th>2</th>\n",
       "      <td>Adelie</td>\n",
       "      <td>Torgersen</td>\n",
       "      <td>40.3</td>\n",
       "      <td>18.0</td>\n",
       "      <td>195.0</td>\n",
       "      <td>3250.0</td>\n",
       "      <td>female</td>\n",
       "      <td>2007</td>\n",
       "    </tr>\n",
       "    <tr>\n",
       "      <th>3</th>\n",
       "      <td>Adelie</td>\n",
       "      <td>Torgersen</td>\n",
       "      <td>NaN</td>\n",
       "      <td>NaN</td>\n",
       "      <td>NaN</td>\n",
       "      <td>NaN</td>\n",
       "      <td>NaN</td>\n",
       "      <td>2007</td>\n",
       "    </tr>\n",
       "    <tr>\n",
       "      <th>4</th>\n",
       "      <td>Adelie</td>\n",
       "      <td>Torgersen</td>\n",
       "      <td>36.7</td>\n",
       "      <td>19.3</td>\n",
       "      <td>193.0</td>\n",
       "      <td>3450.0</td>\n",
       "      <td>female</td>\n",
       "      <td>2007</td>\n",
       "    </tr>\n",
       "  </tbody>\n",
       "</table>\n",
       "</div>"
      ],
      "text/plain": [
       "  species     island  bill_length_mm  bill_depth_mm  flipper_length_mm  \\\n",
       "0  Adelie  Torgersen            39.1           18.7              181.0   \n",
       "1  Adelie  Torgersen            39.5           17.4              186.0   \n",
       "2  Adelie  Torgersen            40.3           18.0              195.0   \n",
       "3  Adelie  Torgersen             NaN            NaN                NaN   \n",
       "4  Adelie  Torgersen            36.7           19.3              193.0   \n",
       "\n",
       "   body_mass_g     sex  year  \n",
       "0       3750.0    male  2007  \n",
       "1       3800.0  female  2007  \n",
       "2       3250.0  female  2007  \n",
       "3          NaN     NaN  2007  \n",
       "4       3450.0  female  2007  "
      ]
     },
     "execution_count": 3,
     "metadata": {},
     "output_type": "execute_result"
    }
   ],
   "source": [
    "# Finding the top 5 rows, shape of the dataset\n",
    "\n",
    "penguin_df.head()"
   ]
  },
  {
   "cell_type": "code",
   "execution_count": 4,
   "id": "b2c90903",
   "metadata": {},
   "outputs": [
    {
     "data": {
      "text/plain": [
       "(344, 8)"
      ]
     },
     "execution_count": 4,
     "metadata": {},
     "output_type": "execute_result"
    }
   ],
   "source": [
    "penguin_df.shape"
   ]
  },
  {
   "cell_type": "code",
   "execution_count": 5,
   "id": "9451ed90",
   "metadata": {},
   "outputs": [
    {
     "data": {
      "text/html": [
       "<div>\n",
       "<style scoped>\n",
       "    .dataframe tbody tr th:only-of-type {\n",
       "        vertical-align: middle;\n",
       "    }\n",
       "\n",
       "    .dataframe tbody tr th {\n",
       "        vertical-align: top;\n",
       "    }\n",
       "\n",
       "    .dataframe thead th {\n",
       "        text-align: right;\n",
       "    }\n",
       "</style>\n",
       "<table border=\"1\" class=\"dataframe\">\n",
       "  <thead>\n",
       "    <tr style=\"text-align: right;\">\n",
       "      <th></th>\n",
       "      <th>bill_length_mm</th>\n",
       "      <th>bill_depth_mm</th>\n",
       "      <th>flipper_length_mm</th>\n",
       "      <th>body_mass_g</th>\n",
       "      <th>year</th>\n",
       "    </tr>\n",
       "  </thead>\n",
       "  <tbody>\n",
       "    <tr>\n",
       "      <th>count</th>\n",
       "      <td>342.000000</td>\n",
       "      <td>342.000000</td>\n",
       "      <td>342.000000</td>\n",
       "      <td>342.000000</td>\n",
       "      <td>344.000000</td>\n",
       "    </tr>\n",
       "    <tr>\n",
       "      <th>mean</th>\n",
       "      <td>43.921930</td>\n",
       "      <td>17.151170</td>\n",
       "      <td>200.915205</td>\n",
       "      <td>4201.754386</td>\n",
       "      <td>2008.029070</td>\n",
       "    </tr>\n",
       "    <tr>\n",
       "      <th>std</th>\n",
       "      <td>5.459584</td>\n",
       "      <td>1.974793</td>\n",
       "      <td>14.061714</td>\n",
       "      <td>801.954536</td>\n",
       "      <td>0.818356</td>\n",
       "    </tr>\n",
       "    <tr>\n",
       "      <th>min</th>\n",
       "      <td>32.100000</td>\n",
       "      <td>13.100000</td>\n",
       "      <td>172.000000</td>\n",
       "      <td>2700.000000</td>\n",
       "      <td>2007.000000</td>\n",
       "    </tr>\n",
       "    <tr>\n",
       "      <th>25%</th>\n",
       "      <td>39.225000</td>\n",
       "      <td>15.600000</td>\n",
       "      <td>190.000000</td>\n",
       "      <td>3550.000000</td>\n",
       "      <td>2007.000000</td>\n",
       "    </tr>\n",
       "    <tr>\n",
       "      <th>50%</th>\n",
       "      <td>44.450000</td>\n",
       "      <td>17.300000</td>\n",
       "      <td>197.000000</td>\n",
       "      <td>4050.000000</td>\n",
       "      <td>2008.000000</td>\n",
       "    </tr>\n",
       "    <tr>\n",
       "      <th>75%</th>\n",
       "      <td>48.500000</td>\n",
       "      <td>18.700000</td>\n",
       "      <td>213.000000</td>\n",
       "      <td>4750.000000</td>\n",
       "      <td>2009.000000</td>\n",
       "    </tr>\n",
       "    <tr>\n",
       "      <th>max</th>\n",
       "      <td>59.600000</td>\n",
       "      <td>21.500000</td>\n",
       "      <td>231.000000</td>\n",
       "      <td>6300.000000</td>\n",
       "      <td>2009.000000</td>\n",
       "    </tr>\n",
       "  </tbody>\n",
       "</table>\n",
       "</div>"
      ],
      "text/plain": [
       "       bill_length_mm  bill_depth_mm  flipper_length_mm  body_mass_g  \\\n",
       "count      342.000000     342.000000         342.000000   342.000000   \n",
       "mean        43.921930      17.151170         200.915205  4201.754386   \n",
       "std          5.459584       1.974793          14.061714   801.954536   \n",
       "min         32.100000      13.100000         172.000000  2700.000000   \n",
       "25%         39.225000      15.600000         190.000000  3550.000000   \n",
       "50%         44.450000      17.300000         197.000000  4050.000000   \n",
       "75%         48.500000      18.700000         213.000000  4750.000000   \n",
       "max         59.600000      21.500000         231.000000  6300.000000   \n",
       "\n",
       "              year  \n",
       "count   344.000000  \n",
       "mean   2008.029070  \n",
       "std       0.818356  \n",
       "min    2007.000000  \n",
       "25%    2007.000000  \n",
       "50%    2008.000000  \n",
       "75%    2009.000000  \n",
       "max    2009.000000  "
      ]
     },
     "execution_count": 5,
     "metadata": {},
     "output_type": "execute_result"
    }
   ],
   "source": [
    "# Looking at the description of the dataset.\n",
    "\n",
    "penguin_df.describe()"
   ]
  },
  {
   "cell_type": "markdown",
   "id": "82d85cc4",
   "metadata": {},
   "source": [
    "We can understand that there are few rows which are equal to NA, 2 columns which are not numerical and also we can consider 'species' column as our target variable. There are now 7 features and 1 target variable."
   ]
  },
  {
   "cell_type": "code",
   "execution_count": 6,
   "id": "efa4193d",
   "metadata": {},
   "outputs": [],
   "source": [
    "# Start performing pre-processing for the dataset\n",
    "\n",
    "## Identify any duplicate values\n",
    "\n",
    "duplicate_rows_df = penguin_df[penguin_df.duplicated()]"
   ]
  },
  {
   "cell_type": "code",
   "execution_count": 7,
   "id": "24c75488",
   "metadata": {},
   "outputs": [
    {
     "data": {
      "text/html": [
       "<div>\n",
       "<style scoped>\n",
       "    .dataframe tbody tr th:only-of-type {\n",
       "        vertical-align: middle;\n",
       "    }\n",
       "\n",
       "    .dataframe tbody tr th {\n",
       "        vertical-align: top;\n",
       "    }\n",
       "\n",
       "    .dataframe thead th {\n",
       "        text-align: right;\n",
       "    }\n",
       "</style>\n",
       "<table border=\"1\" class=\"dataframe\">\n",
       "  <thead>\n",
       "    <tr style=\"text-align: right;\">\n",
       "      <th></th>\n",
       "      <th>species</th>\n",
       "      <th>island</th>\n",
       "      <th>bill_length_mm</th>\n",
       "      <th>bill_depth_mm</th>\n",
       "      <th>flipper_length_mm</th>\n",
       "      <th>body_mass_g</th>\n",
       "      <th>sex</th>\n",
       "      <th>year</th>\n",
       "    </tr>\n",
       "  </thead>\n",
       "  <tbody>\n",
       "  </tbody>\n",
       "</table>\n",
       "</div>"
      ],
      "text/plain": [
       "Empty DataFrame\n",
       "Columns: [species, island, bill_length_mm, bill_depth_mm, flipper_length_mm, body_mass_g, sex, year]\n",
       "Index: []"
      ]
     },
     "execution_count": 7,
     "metadata": {},
     "output_type": "execute_result"
    }
   ],
   "source": [
    "duplicate_rows_df"
   ]
  },
  {
   "cell_type": "code",
   "execution_count": 8,
   "id": "15b10ed4",
   "metadata": {},
   "outputs": [],
   "source": [
    "## Identify missing values\n",
    "\n",
    "bill_length_mm_nan = penguin_df['bill_length_mm'].isnull().sum()\n",
    "bill_depth_mm_nan = penguin_df['bill_depth_mm'].isnull().sum()\n",
    "flipper_length_mm_nan = penguin_df['flipper_length_mm'].isnull().sum()\n",
    "body_mass_g_nan = penguin_df['body_mass_g'].isnull().sum()\n",
    "species_nan = penguin_df['species'].isnull().sum()\n",
    "island_nan = penguin_df['island'].isnull().sum()\n",
    "sex_nan = penguin_df['sex'].isnull().sum()\n",
    "year_nan = penguin_df['year'].isnull().sum()"
   ]
  },
  {
   "cell_type": "code",
   "execution_count": 9,
   "id": "90986fed",
   "metadata": {},
   "outputs": [
    {
     "name": "stdout",
     "output_type": "stream",
     "text": [
      "Number of NaN values for 'bill_length_mm' is 2\n",
      "Number of NaN values for 'bill_depth_mm' is 2\n",
      "Number of NaN values for 'flipper_length_mm' is 2\n",
      "Number of NaN values for 'body_mass_g' is 2\n",
      "Number of NaN values for 'species' is 0\n",
      "Number of NaN values for 'island' is 0\n",
      "Number of NaN values for 'sex' is 11\n",
      "Number of NaN values for 'year' is 0\n"
     ]
    }
   ],
   "source": [
    "print(\"Number of NaN values for 'bill_length_mm' is\", bill_length_mm_nan)\n",
    "print(\"Number of NaN values for 'bill_depth_mm' is\", bill_depth_mm_nan)\n",
    "print(\"Number of NaN values for 'flipper_length_mm' is\", flipper_length_mm_nan)\n",
    "print(\"Number of NaN values for 'body_mass_g' is\", body_mass_g_nan)\n",
    "print(\"Number of NaN values for 'species' is\", species_nan)\n",
    "print(\"Number of NaN values for 'island' is\", island_nan)\n",
    "print(\"Number of NaN values for 'sex' is\", sex_nan)\n",
    "print(\"Number of NaN values for 'year' is\", year_nan)"
   ]
  },
  {
   "cell_type": "markdown",
   "id": "6956e016",
   "metadata": {},
   "source": [
    "From the above calculations, we understand there are few missing values except for the columns 'species', 'island' and 'year."
   ]
  },
  {
   "cell_type": "code",
   "execution_count": 10,
   "id": "e1bfac7a",
   "metadata": {},
   "outputs": [],
   "source": [
    "# I don't want to replace or fill nan values with mode, median or mean as it might affect the accuracy for our dataset,\n",
    "# So I am removing all the nan values\n",
    "\n",
    "new_penguin_df = penguin_df.dropna(axis = \"index\")"
   ]
  },
  {
   "cell_type": "code",
   "execution_count": 11,
   "id": "711f055e",
   "metadata": {},
   "outputs": [
    {
     "data": {
      "text/plain": [
       "(333, 8)"
      ]
     },
     "execution_count": 11,
     "metadata": {},
     "output_type": "execute_result"
    }
   ],
   "source": [
    "new_penguin_df.shape"
   ]
  },
  {
   "cell_type": "markdown",
   "id": "2a4e0b33",
   "metadata": {},
   "source": [
    "Now we see that there are some rows removed from our previous data frame, our data is not having any missing values."
   ]
  },
  {
   "cell_type": "code",
   "execution_count": 12,
   "id": "fbcfb588",
   "metadata": {},
   "outputs": [
    {
     "data": {
      "text/plain": [
       "island   \n",
       "Biscoe       163\n",
       "Dream        123\n",
       "Torgersen     47\n",
       "dtype: int64"
      ]
     },
     "execution_count": 12,
     "metadata": {},
     "output_type": "execute_result"
    }
   ],
   "source": [
    "# After removing missing values, our next task is to encode the categorical variables such as 'island', 'sex', 'species'\n",
    "\n",
    "# To encode first let us find out how many unique values are there in these columns and also number of each unique value\n",
    "\n",
    "np.unique(new_penguin_df[['island']])\n",
    "new_penguin_df[['island']].value_counts()"
   ]
  },
  {
   "cell_type": "code",
   "execution_count": 13,
   "id": "8cfa2059",
   "metadata": {},
   "outputs": [
    {
     "data": {
      "text/plain": [
       "sex   \n",
       "male      168\n",
       "female    165\n",
       "dtype: int64"
      ]
     },
     "execution_count": 13,
     "metadata": {},
     "output_type": "execute_result"
    }
   ],
   "source": [
    "new_penguin_df[['sex']].value_counts()"
   ]
  },
  {
   "cell_type": "code",
   "execution_count": 14,
   "id": "6fe28283",
   "metadata": {},
   "outputs": [
    {
     "data": {
      "text/plain": [
       "species  \n",
       "Adelie       146\n",
       "Gentoo       119\n",
       "Chinstrap     68\n",
       "dtype: int64"
      ]
     },
     "execution_count": 14,
     "metadata": {},
     "output_type": "execute_result"
    }
   ],
   "source": [
    "new_penguin_df[['species']].value_counts()"
   ]
  },
  {
   "cell_type": "code",
   "execution_count": 15,
   "id": "09ccb940",
   "metadata": {},
   "outputs": [],
   "source": [
    "# Encoding these variables\n",
    "\n",
    "encoded_data = pd.get_dummies(new_penguin_df, columns = ['island', 'sex', 'species'])"
   ]
  },
  {
   "cell_type": "code",
   "execution_count": 16,
   "id": "dc43b356",
   "metadata": {},
   "outputs": [
    {
     "data": {
      "text/html": [
       "<div>\n",
       "<style scoped>\n",
       "    .dataframe tbody tr th:only-of-type {\n",
       "        vertical-align: middle;\n",
       "    }\n",
       "\n",
       "    .dataframe tbody tr th {\n",
       "        vertical-align: top;\n",
       "    }\n",
       "\n",
       "    .dataframe thead th {\n",
       "        text-align: right;\n",
       "    }\n",
       "</style>\n",
       "<table border=\"1\" class=\"dataframe\">\n",
       "  <thead>\n",
       "    <tr style=\"text-align: right;\">\n",
       "      <th></th>\n",
       "      <th>bill_length_mm</th>\n",
       "      <th>bill_depth_mm</th>\n",
       "      <th>flipper_length_mm</th>\n",
       "      <th>body_mass_g</th>\n",
       "      <th>year</th>\n",
       "      <th>island_Biscoe</th>\n",
       "      <th>island_Dream</th>\n",
       "      <th>island_Torgersen</th>\n",
       "      <th>sex_female</th>\n",
       "      <th>sex_male</th>\n",
       "      <th>species_Adelie</th>\n",
       "      <th>species_Chinstrap</th>\n",
       "      <th>species_Gentoo</th>\n",
       "    </tr>\n",
       "  </thead>\n",
       "  <tbody>\n",
       "    <tr>\n",
       "      <th>0</th>\n",
       "      <td>39.1</td>\n",
       "      <td>18.7</td>\n",
       "      <td>181.0</td>\n",
       "      <td>3750.0</td>\n",
       "      <td>2007</td>\n",
       "      <td>0</td>\n",
       "      <td>0</td>\n",
       "      <td>1</td>\n",
       "      <td>0</td>\n",
       "      <td>1</td>\n",
       "      <td>1</td>\n",
       "      <td>0</td>\n",
       "      <td>0</td>\n",
       "    </tr>\n",
       "    <tr>\n",
       "      <th>1</th>\n",
       "      <td>39.5</td>\n",
       "      <td>17.4</td>\n",
       "      <td>186.0</td>\n",
       "      <td>3800.0</td>\n",
       "      <td>2007</td>\n",
       "      <td>0</td>\n",
       "      <td>0</td>\n",
       "      <td>1</td>\n",
       "      <td>1</td>\n",
       "      <td>0</td>\n",
       "      <td>1</td>\n",
       "      <td>0</td>\n",
       "      <td>0</td>\n",
       "    </tr>\n",
       "    <tr>\n",
       "      <th>2</th>\n",
       "      <td>40.3</td>\n",
       "      <td>18.0</td>\n",
       "      <td>195.0</td>\n",
       "      <td>3250.0</td>\n",
       "      <td>2007</td>\n",
       "      <td>0</td>\n",
       "      <td>0</td>\n",
       "      <td>1</td>\n",
       "      <td>1</td>\n",
       "      <td>0</td>\n",
       "      <td>1</td>\n",
       "      <td>0</td>\n",
       "      <td>0</td>\n",
       "    </tr>\n",
       "    <tr>\n",
       "      <th>4</th>\n",
       "      <td>36.7</td>\n",
       "      <td>19.3</td>\n",
       "      <td>193.0</td>\n",
       "      <td>3450.0</td>\n",
       "      <td>2007</td>\n",
       "      <td>0</td>\n",
       "      <td>0</td>\n",
       "      <td>1</td>\n",
       "      <td>1</td>\n",
       "      <td>0</td>\n",
       "      <td>1</td>\n",
       "      <td>0</td>\n",
       "      <td>0</td>\n",
       "    </tr>\n",
       "    <tr>\n",
       "      <th>5</th>\n",
       "      <td>39.3</td>\n",
       "      <td>20.6</td>\n",
       "      <td>190.0</td>\n",
       "      <td>3650.0</td>\n",
       "      <td>2007</td>\n",
       "      <td>0</td>\n",
       "      <td>0</td>\n",
       "      <td>1</td>\n",
       "      <td>0</td>\n",
       "      <td>1</td>\n",
       "      <td>1</td>\n",
       "      <td>0</td>\n",
       "      <td>0</td>\n",
       "    </tr>\n",
       "    <tr>\n",
       "      <th>...</th>\n",
       "      <td>...</td>\n",
       "      <td>...</td>\n",
       "      <td>...</td>\n",
       "      <td>...</td>\n",
       "      <td>...</td>\n",
       "      <td>...</td>\n",
       "      <td>...</td>\n",
       "      <td>...</td>\n",
       "      <td>...</td>\n",
       "      <td>...</td>\n",
       "      <td>...</td>\n",
       "      <td>...</td>\n",
       "      <td>...</td>\n",
       "    </tr>\n",
       "    <tr>\n",
       "      <th>339</th>\n",
       "      <td>55.8</td>\n",
       "      <td>19.8</td>\n",
       "      <td>207.0</td>\n",
       "      <td>4000.0</td>\n",
       "      <td>2009</td>\n",
       "      <td>0</td>\n",
       "      <td>1</td>\n",
       "      <td>0</td>\n",
       "      <td>0</td>\n",
       "      <td>1</td>\n",
       "      <td>0</td>\n",
       "      <td>1</td>\n",
       "      <td>0</td>\n",
       "    </tr>\n",
       "    <tr>\n",
       "      <th>340</th>\n",
       "      <td>43.5</td>\n",
       "      <td>18.1</td>\n",
       "      <td>202.0</td>\n",
       "      <td>3400.0</td>\n",
       "      <td>2009</td>\n",
       "      <td>0</td>\n",
       "      <td>1</td>\n",
       "      <td>0</td>\n",
       "      <td>1</td>\n",
       "      <td>0</td>\n",
       "      <td>0</td>\n",
       "      <td>1</td>\n",
       "      <td>0</td>\n",
       "    </tr>\n",
       "    <tr>\n",
       "      <th>341</th>\n",
       "      <td>49.6</td>\n",
       "      <td>18.2</td>\n",
       "      <td>193.0</td>\n",
       "      <td>3775.0</td>\n",
       "      <td>2009</td>\n",
       "      <td>0</td>\n",
       "      <td>1</td>\n",
       "      <td>0</td>\n",
       "      <td>0</td>\n",
       "      <td>1</td>\n",
       "      <td>0</td>\n",
       "      <td>1</td>\n",
       "      <td>0</td>\n",
       "    </tr>\n",
       "    <tr>\n",
       "      <th>342</th>\n",
       "      <td>50.8</td>\n",
       "      <td>19.0</td>\n",
       "      <td>210.0</td>\n",
       "      <td>4100.0</td>\n",
       "      <td>2009</td>\n",
       "      <td>0</td>\n",
       "      <td>1</td>\n",
       "      <td>0</td>\n",
       "      <td>0</td>\n",
       "      <td>1</td>\n",
       "      <td>0</td>\n",
       "      <td>1</td>\n",
       "      <td>0</td>\n",
       "    </tr>\n",
       "    <tr>\n",
       "      <th>343</th>\n",
       "      <td>50.2</td>\n",
       "      <td>18.7</td>\n",
       "      <td>198.0</td>\n",
       "      <td>3775.0</td>\n",
       "      <td>2009</td>\n",
       "      <td>0</td>\n",
       "      <td>1</td>\n",
       "      <td>0</td>\n",
       "      <td>1</td>\n",
       "      <td>0</td>\n",
       "      <td>0</td>\n",
       "      <td>1</td>\n",
       "      <td>0</td>\n",
       "    </tr>\n",
       "  </tbody>\n",
       "</table>\n",
       "<p>333 rows × 13 columns</p>\n",
       "</div>"
      ],
      "text/plain": [
       "     bill_length_mm  bill_depth_mm  flipper_length_mm  body_mass_g  year  \\\n",
       "0              39.1           18.7              181.0       3750.0  2007   \n",
       "1              39.5           17.4              186.0       3800.0  2007   \n",
       "2              40.3           18.0              195.0       3250.0  2007   \n",
       "4              36.7           19.3              193.0       3450.0  2007   \n",
       "5              39.3           20.6              190.0       3650.0  2007   \n",
       "..              ...            ...                ...          ...   ...   \n",
       "339            55.8           19.8              207.0       4000.0  2009   \n",
       "340            43.5           18.1              202.0       3400.0  2009   \n",
       "341            49.6           18.2              193.0       3775.0  2009   \n",
       "342            50.8           19.0              210.0       4100.0  2009   \n",
       "343            50.2           18.7              198.0       3775.0  2009   \n",
       "\n",
       "     island_Biscoe  island_Dream  island_Torgersen  sex_female  sex_male  \\\n",
       "0                0             0                 1           0         1   \n",
       "1                0             0                 1           1         0   \n",
       "2                0             0                 1           1         0   \n",
       "4                0             0                 1           1         0   \n",
       "5                0             0                 1           0         1   \n",
       "..             ...           ...               ...         ...       ...   \n",
       "339              0             1                 0           0         1   \n",
       "340              0             1                 0           1         0   \n",
       "341              0             1                 0           0         1   \n",
       "342              0             1                 0           0         1   \n",
       "343              0             1                 0           1         0   \n",
       "\n",
       "     species_Adelie  species_Chinstrap  species_Gentoo  \n",
       "0                 1                  0               0  \n",
       "1                 1                  0               0  \n",
       "2                 1                  0               0  \n",
       "4                 1                  0               0  \n",
       "5                 1                  0               0  \n",
       "..              ...                ...             ...  \n",
       "339               0                  1               0  \n",
       "340               0                  1               0  \n",
       "341               0                  1               0  \n",
       "342               0                  1               0  \n",
       "343               0                  1               0  \n",
       "\n",
       "[333 rows x 13 columns]"
      ]
     },
     "execution_count": 16,
     "metadata": {},
     "output_type": "execute_result"
    }
   ],
   "source": [
    "encoded_data"
   ]
  },
  {
   "cell_type": "code",
   "execution_count": 17,
   "id": "402fde41",
   "metadata": {},
   "outputs": [],
   "source": [
    "# Normalize non-categorical features (culmen_length_mm, culmen_depth_mm, flipper_length_mm, body_mass_g). \n",
    "\n",
    "## Performing Min-max normalization\n",
    "\n",
    "# Considering non-categorical features\n",
    "non_categorical_df = encoded_data[['bill_length_mm', 'bill_depth_mm', 'flipper_length_mm', 'body_mass_g']]\n",
    "min_val = non_categorical_df.min()\n",
    "max_val = non_categorical_df.max()\n",
    "\n",
    "normalized_df = (non_categorical_df - min_val)/(max_val - min_val)"
   ]
  },
  {
   "cell_type": "code",
   "execution_count": 18,
   "id": "7b83861c",
   "metadata": {},
   "outputs": [
    {
     "data": {
      "text/html": [
       "<div>\n",
       "<style scoped>\n",
       "    .dataframe tbody tr th:only-of-type {\n",
       "        vertical-align: middle;\n",
       "    }\n",
       "\n",
       "    .dataframe tbody tr th {\n",
       "        vertical-align: top;\n",
       "    }\n",
       "\n",
       "    .dataframe thead th {\n",
       "        text-align: right;\n",
       "    }\n",
       "</style>\n",
       "<table border=\"1\" class=\"dataframe\">\n",
       "  <thead>\n",
       "    <tr style=\"text-align: right;\">\n",
       "      <th></th>\n",
       "      <th>bill_length_mm</th>\n",
       "      <th>bill_depth_mm</th>\n",
       "      <th>flipper_length_mm</th>\n",
       "      <th>body_mass_g</th>\n",
       "    </tr>\n",
       "  </thead>\n",
       "  <tbody>\n",
       "    <tr>\n",
       "      <th>0</th>\n",
       "      <td>0.254545</td>\n",
       "      <td>0.666667</td>\n",
       "      <td>0.152542</td>\n",
       "      <td>0.291667</td>\n",
       "    </tr>\n",
       "    <tr>\n",
       "      <th>1</th>\n",
       "      <td>0.269091</td>\n",
       "      <td>0.511905</td>\n",
       "      <td>0.237288</td>\n",
       "      <td>0.305556</td>\n",
       "    </tr>\n",
       "    <tr>\n",
       "      <th>2</th>\n",
       "      <td>0.298182</td>\n",
       "      <td>0.583333</td>\n",
       "      <td>0.389831</td>\n",
       "      <td>0.152778</td>\n",
       "    </tr>\n",
       "    <tr>\n",
       "      <th>4</th>\n",
       "      <td>0.167273</td>\n",
       "      <td>0.738095</td>\n",
       "      <td>0.355932</td>\n",
       "      <td>0.208333</td>\n",
       "    </tr>\n",
       "    <tr>\n",
       "      <th>5</th>\n",
       "      <td>0.261818</td>\n",
       "      <td>0.892857</td>\n",
       "      <td>0.305085</td>\n",
       "      <td>0.263889</td>\n",
       "    </tr>\n",
       "  </tbody>\n",
       "</table>\n",
       "</div>"
      ],
      "text/plain": [
       "   bill_length_mm  bill_depth_mm  flipper_length_mm  body_mass_g\n",
       "0        0.254545       0.666667           0.152542     0.291667\n",
       "1        0.269091       0.511905           0.237288     0.305556\n",
       "2        0.298182       0.583333           0.389831     0.152778\n",
       "4        0.167273       0.738095           0.355932     0.208333\n",
       "5        0.261818       0.892857           0.305085     0.263889"
      ]
     },
     "execution_count": 18,
     "metadata": {},
     "output_type": "execute_result"
    }
   ],
   "source": [
    "normalized_df.head()"
   ]
  },
  {
   "cell_type": "markdown",
   "id": "3cf33bdb",
   "metadata": {},
   "source": [
    "As we look at the normalized dataframe with non-categorical features, we observe all the values are between 0 and 1 using min-max normalization."
   ]
  },
  {
   "cell_type": "code",
   "execution_count": 19,
   "id": "faccd1f4",
   "metadata": {},
   "outputs": [],
   "source": [
    "# We will drop all the non-normalized columns and add the normalized features to our dataframe\n",
    "\n",
    "new_penguin_df = encoded_data.drop(['bill_length_mm', 'bill_depth_mm', 'flipper_length_mm', 'body_mass_g'], axis = 1)"
   ]
  },
  {
   "cell_type": "code",
   "execution_count": 20,
   "id": "1eac88fb",
   "metadata": {},
   "outputs": [],
   "source": [
    "# Adding the normalized features to dataframe\n",
    "\n",
    "new_penguin_df = pd.concat([new_penguin_df, normalized_df], axis = 1)"
   ]
  },
  {
   "cell_type": "code",
   "execution_count": 21,
   "id": "90f042ec",
   "metadata": {},
   "outputs": [
    {
     "data": {
      "text/plain": [
       "(333, 13)"
      ]
     },
     "execution_count": 21,
     "metadata": {},
     "output_type": "execute_result"
    }
   ],
   "source": [
    "new_penguin_df.shape"
   ]
  },
  {
   "cell_type": "code",
   "execution_count": 22,
   "id": "0d69e129",
   "metadata": {},
   "outputs": [
    {
     "data": {
      "text/html": [
       "<div>\n",
       "<style scoped>\n",
       "    .dataframe tbody tr th:only-of-type {\n",
       "        vertical-align: middle;\n",
       "    }\n",
       "\n",
       "    .dataframe tbody tr th {\n",
       "        vertical-align: top;\n",
       "    }\n",
       "\n",
       "    .dataframe thead th {\n",
       "        text-align: right;\n",
       "    }\n",
       "</style>\n",
       "<table border=\"1\" class=\"dataframe\">\n",
       "  <thead>\n",
       "    <tr style=\"text-align: right;\">\n",
       "      <th></th>\n",
       "      <th>year</th>\n",
       "      <th>island_Biscoe</th>\n",
       "      <th>island_Dream</th>\n",
       "      <th>island_Torgersen</th>\n",
       "      <th>sex_female</th>\n",
       "      <th>sex_male</th>\n",
       "      <th>species_Adelie</th>\n",
       "      <th>species_Chinstrap</th>\n",
       "      <th>species_Gentoo</th>\n",
       "      <th>bill_length_mm</th>\n",
       "      <th>bill_depth_mm</th>\n",
       "      <th>flipper_length_mm</th>\n",
       "      <th>body_mass_g</th>\n",
       "    </tr>\n",
       "  </thead>\n",
       "  <tbody>\n",
       "    <tr>\n",
       "      <th>0</th>\n",
       "      <td>2007</td>\n",
       "      <td>0</td>\n",
       "      <td>0</td>\n",
       "      <td>1</td>\n",
       "      <td>0</td>\n",
       "      <td>1</td>\n",
       "      <td>1</td>\n",
       "      <td>0</td>\n",
       "      <td>0</td>\n",
       "      <td>0.254545</td>\n",
       "      <td>0.666667</td>\n",
       "      <td>0.152542</td>\n",
       "      <td>0.291667</td>\n",
       "    </tr>\n",
       "    <tr>\n",
       "      <th>1</th>\n",
       "      <td>2007</td>\n",
       "      <td>0</td>\n",
       "      <td>0</td>\n",
       "      <td>1</td>\n",
       "      <td>1</td>\n",
       "      <td>0</td>\n",
       "      <td>1</td>\n",
       "      <td>0</td>\n",
       "      <td>0</td>\n",
       "      <td>0.269091</td>\n",
       "      <td>0.511905</td>\n",
       "      <td>0.237288</td>\n",
       "      <td>0.305556</td>\n",
       "    </tr>\n",
       "    <tr>\n",
       "      <th>2</th>\n",
       "      <td>2007</td>\n",
       "      <td>0</td>\n",
       "      <td>0</td>\n",
       "      <td>1</td>\n",
       "      <td>1</td>\n",
       "      <td>0</td>\n",
       "      <td>1</td>\n",
       "      <td>0</td>\n",
       "      <td>0</td>\n",
       "      <td>0.298182</td>\n",
       "      <td>0.583333</td>\n",
       "      <td>0.389831</td>\n",
       "      <td>0.152778</td>\n",
       "    </tr>\n",
       "    <tr>\n",
       "      <th>4</th>\n",
       "      <td>2007</td>\n",
       "      <td>0</td>\n",
       "      <td>0</td>\n",
       "      <td>1</td>\n",
       "      <td>1</td>\n",
       "      <td>0</td>\n",
       "      <td>1</td>\n",
       "      <td>0</td>\n",
       "      <td>0</td>\n",
       "      <td>0.167273</td>\n",
       "      <td>0.738095</td>\n",
       "      <td>0.355932</td>\n",
       "      <td>0.208333</td>\n",
       "    </tr>\n",
       "    <tr>\n",
       "      <th>5</th>\n",
       "      <td>2007</td>\n",
       "      <td>0</td>\n",
       "      <td>0</td>\n",
       "      <td>1</td>\n",
       "      <td>0</td>\n",
       "      <td>1</td>\n",
       "      <td>1</td>\n",
       "      <td>0</td>\n",
       "      <td>0</td>\n",
       "      <td>0.261818</td>\n",
       "      <td>0.892857</td>\n",
       "      <td>0.305085</td>\n",
       "      <td>0.263889</td>\n",
       "    </tr>\n",
       "  </tbody>\n",
       "</table>\n",
       "</div>"
      ],
      "text/plain": [
       "   year  island_Biscoe  island_Dream  island_Torgersen  sex_female  sex_male  \\\n",
       "0  2007              0             0                 1           0         1   \n",
       "1  2007              0             0                 1           1         0   \n",
       "2  2007              0             0                 1           1         0   \n",
       "4  2007              0             0                 1           1         0   \n",
       "5  2007              0             0                 1           0         1   \n",
       "\n",
       "   species_Adelie  species_Chinstrap  species_Gentoo  bill_length_mm  \\\n",
       "0               1                  0               0        0.254545   \n",
       "1               1                  0               0        0.269091   \n",
       "2               1                  0               0        0.298182   \n",
       "4               1                  0               0        0.167273   \n",
       "5               1                  0               0        0.261818   \n",
       "\n",
       "   bill_depth_mm  flipper_length_mm  body_mass_g  \n",
       "0       0.666667           0.152542     0.291667  \n",
       "1       0.511905           0.237288     0.305556  \n",
       "2       0.583333           0.389831     0.152778  \n",
       "4       0.738095           0.355932     0.208333  \n",
       "5       0.892857           0.305085     0.263889  "
      ]
     },
     "execution_count": 22,
     "metadata": {},
     "output_type": "execute_result"
    }
   ],
   "source": [
    "new_penguin_df.head()"
   ]
  },
  {
   "cell_type": "code",
   "execution_count": 23,
   "id": "6fb408bf",
   "metadata": {},
   "outputs": [],
   "source": [
    "# We are choosing 'sex' variable as our target variable for Binary classification as the value counts are almost equal for both 'female' and 'male'\n",
    "# But to choose Y variable, we have to merge 'sex_male', 'sex_female'\n",
    "# Choosing 0 as 'male', 1 as 'female'\n",
    "\n",
    "variable_list = []\n",
    "for male, female in zip(new_penguin_df['sex_male'], new_penguin_df['sex_female']):\n",
    "    if male == 1:\n",
    "        variable_list.append(0)\n",
    "    else:\n",
    "        variable_list.append(1)\n",
    "new_penguin_df['sex'] = variable_list\n"
   ]
  },
  {
   "cell_type": "code",
   "execution_count": 24,
   "id": "962f8561",
   "metadata": {},
   "outputs": [
    {
     "data": {
      "text/html": [
       "<div>\n",
       "<style scoped>\n",
       "    .dataframe tbody tr th:only-of-type {\n",
       "        vertical-align: middle;\n",
       "    }\n",
       "\n",
       "    .dataframe tbody tr th {\n",
       "        vertical-align: top;\n",
       "    }\n",
       "\n",
       "    .dataframe thead th {\n",
       "        text-align: right;\n",
       "    }\n",
       "</style>\n",
       "<table border=\"1\" class=\"dataframe\">\n",
       "  <thead>\n",
       "    <tr style=\"text-align: right;\">\n",
       "      <th></th>\n",
       "      <th>year</th>\n",
       "      <th>island_Biscoe</th>\n",
       "      <th>island_Dream</th>\n",
       "      <th>island_Torgersen</th>\n",
       "      <th>sex_female</th>\n",
       "      <th>sex_male</th>\n",
       "      <th>species_Adelie</th>\n",
       "      <th>species_Chinstrap</th>\n",
       "      <th>species_Gentoo</th>\n",
       "      <th>bill_length_mm</th>\n",
       "      <th>bill_depth_mm</th>\n",
       "      <th>flipper_length_mm</th>\n",
       "      <th>body_mass_g</th>\n",
       "      <th>sex</th>\n",
       "    </tr>\n",
       "  </thead>\n",
       "  <tbody>\n",
       "    <tr>\n",
       "      <th>0</th>\n",
       "      <td>2007</td>\n",
       "      <td>0</td>\n",
       "      <td>0</td>\n",
       "      <td>1</td>\n",
       "      <td>0</td>\n",
       "      <td>1</td>\n",
       "      <td>1</td>\n",
       "      <td>0</td>\n",
       "      <td>0</td>\n",
       "      <td>0.254545</td>\n",
       "      <td>0.666667</td>\n",
       "      <td>0.152542</td>\n",
       "      <td>0.291667</td>\n",
       "      <td>0</td>\n",
       "    </tr>\n",
       "    <tr>\n",
       "      <th>1</th>\n",
       "      <td>2007</td>\n",
       "      <td>0</td>\n",
       "      <td>0</td>\n",
       "      <td>1</td>\n",
       "      <td>1</td>\n",
       "      <td>0</td>\n",
       "      <td>1</td>\n",
       "      <td>0</td>\n",
       "      <td>0</td>\n",
       "      <td>0.269091</td>\n",
       "      <td>0.511905</td>\n",
       "      <td>0.237288</td>\n",
       "      <td>0.305556</td>\n",
       "      <td>1</td>\n",
       "    </tr>\n",
       "    <tr>\n",
       "      <th>2</th>\n",
       "      <td>2007</td>\n",
       "      <td>0</td>\n",
       "      <td>0</td>\n",
       "      <td>1</td>\n",
       "      <td>1</td>\n",
       "      <td>0</td>\n",
       "      <td>1</td>\n",
       "      <td>0</td>\n",
       "      <td>0</td>\n",
       "      <td>0.298182</td>\n",
       "      <td>0.583333</td>\n",
       "      <td>0.389831</td>\n",
       "      <td>0.152778</td>\n",
       "      <td>1</td>\n",
       "    </tr>\n",
       "    <tr>\n",
       "      <th>4</th>\n",
       "      <td>2007</td>\n",
       "      <td>0</td>\n",
       "      <td>0</td>\n",
       "      <td>1</td>\n",
       "      <td>1</td>\n",
       "      <td>0</td>\n",
       "      <td>1</td>\n",
       "      <td>0</td>\n",
       "      <td>0</td>\n",
       "      <td>0.167273</td>\n",
       "      <td>0.738095</td>\n",
       "      <td>0.355932</td>\n",
       "      <td>0.208333</td>\n",
       "      <td>1</td>\n",
       "    </tr>\n",
       "    <tr>\n",
       "      <th>5</th>\n",
       "      <td>2007</td>\n",
       "      <td>0</td>\n",
       "      <td>0</td>\n",
       "      <td>1</td>\n",
       "      <td>0</td>\n",
       "      <td>1</td>\n",
       "      <td>1</td>\n",
       "      <td>0</td>\n",
       "      <td>0</td>\n",
       "      <td>0.261818</td>\n",
       "      <td>0.892857</td>\n",
       "      <td>0.305085</td>\n",
       "      <td>0.263889</td>\n",
       "      <td>0</td>\n",
       "    </tr>\n",
       "  </tbody>\n",
       "</table>\n",
       "</div>"
      ],
      "text/plain": [
       "   year  island_Biscoe  island_Dream  island_Torgersen  sex_female  sex_male  \\\n",
       "0  2007              0             0                 1           0         1   \n",
       "1  2007              0             0                 1           1         0   \n",
       "2  2007              0             0                 1           1         0   \n",
       "4  2007              0             0                 1           1         0   \n",
       "5  2007              0             0                 1           0         1   \n",
       "\n",
       "   species_Adelie  species_Chinstrap  species_Gentoo  bill_length_mm  \\\n",
       "0               1                  0               0        0.254545   \n",
       "1               1                  0               0        0.269091   \n",
       "2               1                  0               0        0.298182   \n",
       "4               1                  0               0        0.167273   \n",
       "5               1                  0               0        0.261818   \n",
       "\n",
       "   bill_depth_mm  flipper_length_mm  body_mass_g  sex  \n",
       "0       0.666667           0.152542     0.291667    0  \n",
       "1       0.511905           0.237288     0.305556    1  \n",
       "2       0.583333           0.389831     0.152778    1  \n",
       "4       0.738095           0.355932     0.208333    1  \n",
       "5       0.892857           0.305085     0.263889    0  "
      ]
     },
     "execution_count": 24,
     "metadata": {},
     "output_type": "execute_result"
    }
   ],
   "source": [
    "new_penguin_df.head()"
   ]
  },
  {
   "cell_type": "code",
   "execution_count": 25,
   "id": "4d8db004",
   "metadata": {},
   "outputs": [],
   "source": [
    "# Removing 'sex_female', 'sex_male' columns\n",
    "\n",
    "new_penguin_df = new_penguin_df.drop(['sex_female', 'sex_male'], axis = 1)"
   ]
  },
  {
   "cell_type": "code",
   "execution_count": 26,
   "id": "5c13666f",
   "metadata": {},
   "outputs": [
    {
     "data": {
      "text/html": [
       "<div>\n",
       "<style scoped>\n",
       "    .dataframe tbody tr th:only-of-type {\n",
       "        vertical-align: middle;\n",
       "    }\n",
       "\n",
       "    .dataframe tbody tr th {\n",
       "        vertical-align: top;\n",
       "    }\n",
       "\n",
       "    .dataframe thead th {\n",
       "        text-align: right;\n",
       "    }\n",
       "</style>\n",
       "<table border=\"1\" class=\"dataframe\">\n",
       "  <thead>\n",
       "    <tr style=\"text-align: right;\">\n",
       "      <th></th>\n",
       "      <th>year</th>\n",
       "      <th>island_Biscoe</th>\n",
       "      <th>island_Dream</th>\n",
       "      <th>island_Torgersen</th>\n",
       "      <th>species_Adelie</th>\n",
       "      <th>species_Chinstrap</th>\n",
       "      <th>species_Gentoo</th>\n",
       "      <th>bill_length_mm</th>\n",
       "      <th>bill_depth_mm</th>\n",
       "      <th>flipper_length_mm</th>\n",
       "      <th>body_mass_g</th>\n",
       "      <th>sex</th>\n",
       "    </tr>\n",
       "  </thead>\n",
       "  <tbody>\n",
       "    <tr>\n",
       "      <th>0</th>\n",
       "      <td>2007</td>\n",
       "      <td>0</td>\n",
       "      <td>0</td>\n",
       "      <td>1</td>\n",
       "      <td>1</td>\n",
       "      <td>0</td>\n",
       "      <td>0</td>\n",
       "      <td>0.254545</td>\n",
       "      <td>0.666667</td>\n",
       "      <td>0.152542</td>\n",
       "      <td>0.291667</td>\n",
       "      <td>0</td>\n",
       "    </tr>\n",
       "    <tr>\n",
       "      <th>1</th>\n",
       "      <td>2007</td>\n",
       "      <td>0</td>\n",
       "      <td>0</td>\n",
       "      <td>1</td>\n",
       "      <td>1</td>\n",
       "      <td>0</td>\n",
       "      <td>0</td>\n",
       "      <td>0.269091</td>\n",
       "      <td>0.511905</td>\n",
       "      <td>0.237288</td>\n",
       "      <td>0.305556</td>\n",
       "      <td>1</td>\n",
       "    </tr>\n",
       "    <tr>\n",
       "      <th>2</th>\n",
       "      <td>2007</td>\n",
       "      <td>0</td>\n",
       "      <td>0</td>\n",
       "      <td>1</td>\n",
       "      <td>1</td>\n",
       "      <td>0</td>\n",
       "      <td>0</td>\n",
       "      <td>0.298182</td>\n",
       "      <td>0.583333</td>\n",
       "      <td>0.389831</td>\n",
       "      <td>0.152778</td>\n",
       "      <td>1</td>\n",
       "    </tr>\n",
       "    <tr>\n",
       "      <th>4</th>\n",
       "      <td>2007</td>\n",
       "      <td>0</td>\n",
       "      <td>0</td>\n",
       "      <td>1</td>\n",
       "      <td>1</td>\n",
       "      <td>0</td>\n",
       "      <td>0</td>\n",
       "      <td>0.167273</td>\n",
       "      <td>0.738095</td>\n",
       "      <td>0.355932</td>\n",
       "      <td>0.208333</td>\n",
       "      <td>1</td>\n",
       "    </tr>\n",
       "    <tr>\n",
       "      <th>5</th>\n",
       "      <td>2007</td>\n",
       "      <td>0</td>\n",
       "      <td>0</td>\n",
       "      <td>1</td>\n",
       "      <td>1</td>\n",
       "      <td>0</td>\n",
       "      <td>0</td>\n",
       "      <td>0.261818</td>\n",
       "      <td>0.892857</td>\n",
       "      <td>0.305085</td>\n",
       "      <td>0.263889</td>\n",
       "      <td>0</td>\n",
       "    </tr>\n",
       "  </tbody>\n",
       "</table>\n",
       "</div>"
      ],
      "text/plain": [
       "   year  island_Biscoe  island_Dream  island_Torgersen  species_Adelie  \\\n",
       "0  2007              0             0                 1               1   \n",
       "1  2007              0             0                 1               1   \n",
       "2  2007              0             0                 1               1   \n",
       "4  2007              0             0                 1               1   \n",
       "5  2007              0             0                 1               1   \n",
       "\n",
       "   species_Chinstrap  species_Gentoo  bill_length_mm  bill_depth_mm  \\\n",
       "0                  0               0        0.254545       0.666667   \n",
       "1                  0               0        0.269091       0.511905   \n",
       "2                  0               0        0.298182       0.583333   \n",
       "4                  0               0        0.167273       0.738095   \n",
       "5                  0               0        0.261818       0.892857   \n",
       "\n",
       "   flipper_length_mm  body_mass_g  sex  \n",
       "0           0.152542     0.291667    0  \n",
       "1           0.237288     0.305556    1  \n",
       "2           0.389831     0.152778    1  \n",
       "4           0.355932     0.208333    1  \n",
       "5           0.305085     0.263889    0  "
      ]
     },
     "execution_count": 26,
     "metadata": {},
     "output_type": "execute_result"
    }
   ],
   "source": [
    "new_penguin_df.head()"
   ]
  },
  {
   "cell_type": "code",
   "execution_count": 27,
   "id": "954d63bf",
   "metadata": {},
   "outputs": [],
   "source": [
    "# Defining X and y variables\n",
    "\n",
    "# Dropping year column as well as it is not giving accuracy as expected and adds no value to the model\n",
    "Y = new_penguin_df.iloc[:, -1]\n",
    "X = new_penguin_df.drop(['year', 'sex'], axis = 1)"
   ]
  },
  {
   "cell_type": "code",
   "execution_count": 28,
   "id": "873acaeb",
   "metadata": {},
   "outputs": [
    {
     "name": "stdout",
     "output_type": "stream",
     "text": [
      "X(input) is in the shape of N*d that is (333, 10) and Y is in the shape of N*1 that is (333,)\n"
     ]
    }
   ],
   "source": [
    "print(\"X(input) is in the shape of N*d that is \" + str(X.shape) + \" and Y is in the shape of N*1 that is \" + str(Y.shape))"
   ]
  },
  {
   "cell_type": "code",
   "execution_count": 29,
   "id": "d3e2c707",
   "metadata": {},
   "outputs": [],
   "source": [
    "# Splitting the dataset into training and testing as 80% training and 20% testing\n",
    "\n",
    "# Setting the split ratio value to 0.8\n",
    "split_ratio = 0.8\n",
    " \n",
    "x_train = X[: int(split_ratio*len(X))]\n",
    "x_test =  X[int(split_ratio*len(X)):]\n",
    "y_train = Y[:int(split_ratio*len(X))]\n",
    "y_test = Y[int(split_ratio*len(X)):]"
   ]
  },
  {
   "cell_type": "code",
   "execution_count": 30,
   "id": "3329300e",
   "metadata": {},
   "outputs": [
    {
     "name": "stdout",
     "output_type": "stream",
     "text": [
      "The shape of x_train, y_train, y_train, y_test is  (266, 10) (266,) (67, 10) (67,)\n"
     ]
    }
   ],
   "source": [
    "# Printing the shape of x_train, y_train, x_test, y_test\n",
    "\n",
    "print(\"The shape of x_train, y_train, y_train, y_test is \", x_train.shape, y_train.shape, x_test.shape, y_test.shape)"
   ]
  },
  {
   "cell_type": "code",
   "execution_count": 51,
   "id": "76b94795",
   "metadata": {},
   "outputs": [],
   "source": [
    "# Writing the Logistic Regression model\n",
    "\n",
    "class LogitRegression:\n",
    "    \n",
    "    # Initializing learning rate and number of iterations\n",
    "    def __init__(self, learning_rate, iterations):\n",
    "        \n",
    "        self.learning_rate = learning_rate\n",
    "        self.iterations = iterations\n",
    "        \n",
    "    # Defining the sigmoid function\n",
    "    def sigmoid(self, val):\n",
    "        return 1/(1+np.exp(-val))\n",
    "    \n",
    "    # Defining the cost function as given in the problem\n",
    "    \n",
    "    def cost(self, x, y, weights, bias):\n",
    "        \n",
    "        val = np.dot(x, self.weights) + self.bias\n",
    "        pred_val = self.sigmoid(val)\n",
    "        size = x.shape[0]\n",
    "        obj_func = (-np.dot(y,np.log(pred_val)) - np.dot((1-y), np.log(1-pred_val)))/(size)\n",
    "        return obj_func\n",
    "    \n",
    "    def gradient_descent(self, x, y, weights, bias):\n",
    "        val = np.dot(x, self.weights) + self.bias\n",
    "        pred_val = self.sigmoid(val)\n",
    "        \n",
    "        # Finding the error and returning the derivative\n",
    "        delta = pred_val-y\n",
    "        size = x.shape[0]\n",
    "        dw = np.dot(x.T, delta)/size\n",
    "        return dw\n",
    "\n",
    "    def fit(self, x, y):\n",
    "        self.weights = np.random.uniform(0,1, x.shape[1])\n",
    "        \n",
    "        # Setting the bias value to 0.3\n",
    "        self.bias = 0.3\n",
    "        self.loss_val = []\n",
    "        for i in range(self.iterations):\n",
    "            dw = self.gradient_descent(x, y, self.weights, self.bias)\n",
    "            self.loss_val.append(self.cost(x, y, self.weights, self.bias))\n",
    "            self.weights = self.weights - (learning_rate*dw)\n",
    "            \n",
    "        return self.weights, self.loss_val"
   ]
  },
  {
   "cell_type": "code",
   "execution_count": 52,
   "id": "a93cf81c",
   "metadata": {},
   "outputs": [],
   "source": [
    "# Defining the predict() function\n",
    "\n",
    "def predict(x, weights):\n",
    "    predict_values = []\n",
    "    \n",
    "    # Applying the activation function to the y_pred value\n",
    "    \n",
    "    y_pred = 1/(1+(np.exp(-(np.dot(weights, x.T) + 0.3))))\n",
    "    \n",
    "    return [1 if val >= 0.5 else 0 for val in y_pred]"
   ]
  },
  {
   "cell_type": "code",
   "execution_count": 56,
   "id": "ca566f4c",
   "metadata": {},
   "outputs": [],
   "source": [
    "learning_rate = 0.07\n",
    "iterations = 80000\n",
    "#weights = np.random.uniform(0,1, X.shape[1])\n",
    "\n",
    "lr = LogitRegression(learning_rate, iterations)\n",
    "final_weights, loss_value = lr.fit(x_train, y_train)"
   ]
  },
  {
   "cell_type": "code",
   "execution_count": 57,
   "id": "f7c94582",
   "metadata": {},
   "outputs": [
    {
     "name": "stdout",
     "output_type": "stream",
     "text": [
      "[1.4748524253028104, 1.4474643877758995, 1.4205623408378896, 1.3941621389565226, 1.368279159806507, 1.3429281919181681, 1.3181233206000977, 1.2938778137480988, 1.2702040093006206, 1.247113206211254, 1.2246155608733633, 1.2027199909433546, 1.1814340884621264, 1.1607640440659766, 1.1407145839085182, 1.1212889206868923, 1.1024887198848816, 1.0843140820213362, 1.0667635413363377, 1.0498340809731594]\n"
     ]
    }
   ],
   "source": [
    "# Printing out the loss values for first 20 iterations\n",
    "\n",
    "print(loss_value[0:20])"
   ]
  },
  {
   "cell_type": "code",
   "execution_count": 65,
   "id": "15d934cb",
   "metadata": {},
   "outputs": [
    {
     "data": {
      "image/png": "[encoded data removed]",
      "text/plain": [
       "<Figure size 640x480 with 1 Axes>"
      ]
     },
     "metadata": {},
     "output_type": "display_data"
    }
   ],
   "source": [
    "import matplotlib.pyplot as plt\n",
    "\n",
    "plt.plot(range(iterations), loss_value)\n",
    "plt.xlabel(\"Number of Iterations\")\n",
    "plt.ylabel(\"Loss values\")\n",
    "\n",
    "plt.title(\"Graph for the loss values for every iteration\")\n",
    "plt.show()"
   ]
  },
  {
   "cell_type": "code",
   "execution_count": 75,
   "id": "21a6388c",
   "metadata": {},
   "outputs": [],
   "source": [
    "num_iterations = [1000, 3000, 5000, 7000]\n",
    "learning_rates = [0.05, 0.02, 0.07, 0.01]\n",
    "\n",
    "lr = LogitRegression(learning_rates[0], num_iterations[0])\n",
    "final_weights, loss_value1 = lr.fit(x_train, y_train)\n",
    "\n",
    "lr = LogitRegression(learning_rates[1], num_iterations[1])\n",
    "final_weights, loss_value2 = lr.fit(x_train, y_train)\n",
    "\n",
    "lr = LogitRegression(learning_rates[2], num_iterations[2])\n",
    "final_weights, loss_value3 = lr.fit(x_train, y_train)\n",
    "\n",
    "lr = LogitRegression(learning_rates[3], num_iterations[3])\n",
    "final_weights, loss_value4 = lr.fit(x_train, y_train)"
   ]
  },
  {
   "cell_type": "code",
   "execution_count": 78,
   "id": "9daefd2b",
   "metadata": {},
   "outputs": [
    {
     "name": "stderr",
     "output_type": "stream",
     "text": [
      "C:\\Users\\Saharsha'\\AppData\\Local\\Temp\\ipykernel_18248\\1622714046.py:22: UserWarning: Matplotlib is currently using module://matplotlib_inline.backend_inline, which is a non-GUI backend, so cannot show the figure.\n",
      "  fig.show()\n"
     ]
    },
    {
     "data": {
      "image/png": "[encoded data removed]",
      "text/plain": [
       "<Figure size 1200x500 with 2 Axes>"
      ]
     },
     "metadata": {},
     "output_type": "display_data"
    }
   ],
   "source": [
    "#Creating subplots side by side\n",
    "fig, ax = plt.subplots(1, 2, figsize=(12, 5))\n",
    "\n",
    "ax[0].plot(range(num_iterations[0]), loss_value1, color='blue')\n",
    "\n",
    "#Setting the title of the graph\n",
    "ax[0].set_title('Loss values for 1000 iterations with learning rate of 0.05')\n",
    "\n",
    "#Setting x label and y label\n",
    "ax[0].set_xlabel('1000 iterations')\n",
    "ax[0].set_ylabel('Loss values')\n",
    "\n",
    "ax[1].plot(range(num_iterations[1]), loss_value2, color='red')\n",
    "                \n",
    "#Setting the title of the graph\n",
    "ax[1].set_title('Loss values for 3000 iterations with learning rate of 0.02')\n",
    "\n",
    "#Setting x label and y label\n",
    "ax[1].set_xlabel('3000 iterations')\n",
    "ax[1].set_ylabel('Loss values')\n",
    "\n",
    "fig.show()"
   ]
  },
  {
   "cell_type": "code",
   "execution_count": 79,
   "id": "fa406944",
   "metadata": {},
   "outputs": [
    {
     "name": "stderr",
     "output_type": "stream",
     "text": [
      "C:\\Users\\Saharsha'\\AppData\\Local\\Temp\\ipykernel_18248\\1524813133.py:22: UserWarning: Matplotlib is currently using module://matplotlib_inline.backend_inline, which is a non-GUI backend, so cannot show the figure.\n",
      "  fig.show()\n"
     ]
    },
    {
     "data": {
      "image/png": "[encoded data removed]",
      "text/plain": [
       "<Figure size 1200x500 with 2 Axes>"
      ]
     },
     "metadata": {},
     "output_type": "display_data"
    }
   ],
   "source": [
    "#Creating subplots side by side\n",
    "fig, ax = plt.subplots(1, 2, figsize=(12, 5))\n",
    "\n",
    "ax[0].plot(range(num_iterations[2]), loss_value3, color='blue')\n",
    "\n",
    "#Setting the title of the graph\n",
    "ax[0].set_title('Loss values for 5000 iterations with learning rate of 0.07')\n",
    "\n",
    "#Setting x label and y label\n",
    "ax[0].set_xlabel('5000 iterations')\n",
    "ax[0].set_ylabel('Loss values')\n",
    "\n",
    "ax[1].plot(range(num_iterations[3]), loss_value4, color='red')\n",
    "                \n",
    "#Setting the title of the graph\n",
    "ax[1].set_title('Loss values for 7000 iterations with learning rate of 0.01')\n",
    "\n",
    "#Setting x label and y label\n",
    "ax[1].set_xlabel('7000 iterations')\n",
    "ax[1].set_ylabel('Loss values')\n",
    "\n",
    "fig.show()"
   ]
  },
  {
   "cell_type": "code",
   "execution_count": 59,
   "id": "22b7cd4f",
   "metadata": {},
   "outputs": [],
   "source": [
    "# Finding out the predictor vector values\n",
    "\n",
    "y_pred = predict(x_test, final_weights)"
   ]
  },
  {
   "cell_type": "code",
   "execution_count": 60,
   "id": "d61cb812",
   "metadata": {},
   "outputs": [
    {
     "name": "stdout",
     "output_type": "stream",
     "text": [
      "59\n"
     ]
    }
   ],
   "source": [
    "# Finding the accuracy by comparing y_test and y_pred\n",
    "\n",
    "count = 0\n",
    "for i,j in zip(y_test, y_pred):\n",
    "    if i == j:\n",
    "        count += 1\n",
    "print(count)"
   ]
  },
  {
   "cell_type": "code",
   "execution_count": 61,
   "id": "958f41ff",
   "metadata": {},
   "outputs": [
    {
     "name": "stdout",
     "output_type": "stream",
     "text": [
      "The accuracy of the model with learning rate 0.07 and 80000 iterations is  88.05970149253731\n"
     ]
    }
   ],
   "source": [
    "print(\"The accuracy of the model with learning rate 0.07 and 80000 iterations is \", (count/len(y_test))*100)"
   ]
  },
  {
   "cell_type": "code",
   "execution_count": 62,
   "id": "c7cc6a85",
   "metadata": {},
   "outputs": [
    {
     "name": "stdout",
     "output_type": "stream",
     "text": [
      "8.638707333453565\n",
      "8.290100779426202\n",
      "8.873873944159635\n",
      "5.55636444920363\n",
      "9.188039706692974\n",
      "12.405486665581169\n",
      "-11.067973406540277\n",
      "-10.17111460007754\n",
      "-0.2701675045854325\n",
      "-19.63950108963453\n"
     ]
    }
   ],
   "source": [
    "# Printing the weights values\n",
    "\n",
    "for i in final_weights:\n",
    "    print(i)"
   ]
  },
  {
   "cell_type": "code",
   "execution_count": 63,
   "id": "9cf7780e",
   "metadata": {},
   "outputs": [],
   "source": [
    "# Pickled file which consists of the final best weights\n",
    "\n",
    "# Importing pickle library\n",
    "import pickle\n",
    "\n",
    "# Opening the pickle file with 'write binary mode'\n",
    "\n",
    "with open(\"Sahiti_Jyothi_assignment1_part1.pkl\", \"wb\") as f:\n",
    "    pickle.dump(final_weights, f)"
   ]
  }
 ],
 "metadata": {
  "kernelspec": {
   "display_name": "Python 3 (ipykernel)",
   "language": "python",
   "name": "python3"
  },
  "language_info": {
   "codemirror_mode": {
    "name": "ipython",
    "version": 3
   },
   "file_extension": ".py",
   "mimetype": "text/x-python",
   "name": "python",
   "nbconvert_exporter": "python",
   "pygments_lexer": "ipython3",
   "version": "3.11.2"
  }
 },
 "nbformat": 4,
 "nbformat_minor": 5
}
